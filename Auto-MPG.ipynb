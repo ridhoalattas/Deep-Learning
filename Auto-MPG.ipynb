{
  "nbformat": 4,
  "nbformat_minor": 0,
  "metadata": {
    "colab": {
      "name": "Auto-MPG.ipynb",
      "provenance": []
    },
    "kernelspec": {
      "name": "python3",
      "display_name": "Python 3"
    }
  },
  "cells": [
    {
      "cell_type": "code",
      "metadata": {
        "id": "V1IIebgEkqAB"
      },
      "source": [
        "import pandas as pd\n",
        "import numpy as np\n",
        "import matplotlib.pyplot as plt\n",
        "import os\n",
        "import seaborn as sb"
      ],
      "execution_count": 176,
      "outputs": []
    },
    {
      "cell_type": "markdown",
      "metadata": {
        "id": "AcxGUDNVk0dz"
      },
      "source": [
        "#Function"
      ]
    },
    {
      "cell_type": "code",
      "metadata": {
        "id": "9nA-alTqkztT"
      },
      "source": [
        "def plot_loss(history):\n",
        "  history_dataframe = pd.DataFrame(history.history)\n",
        "\n",
        "  min_loss_index = history_dataframe[history_dataframe['loss']==min(history_dataframe['loss'])].index.values\n",
        "  min_loss = history_dataframe.loc[min_loss_index]['loss']\n",
        "  min_val_loss_index = history_dataframe[history_dataframe['val_loss']==min(history_dataframe['val_loss'])].index.values\n",
        "  min_val_loss = history_dataframe.loc[min_val_loss_index]['val_loss']\n",
        "\n",
        "  plt.plot(history.history['loss'], label='loss')\n",
        "  plt.plot(history.history['val_loss'], label='val_loss')\n",
        "  plt.plot(min_loss_index, min_loss, 'o', c='k', ms=4, label='min loss')\n",
        "  plt.plot(min_val_loss_index, min_val_loss, 'o', c='k', ms=4, label='min val_loss')\n",
        "  plt.xlabel('Epoch')\n",
        "  plt.ylabel('Loss (MSE)')\n",
        "  plt.legend()\n",
        "  plt.grid(True)\n",
        "  plt.show()\n",
        "\n",
        "  print(\"Minimun Loss :\", min_loss)\n",
        "  print(\"---------------------------------------\")\n",
        "  print(\"Minimun Validation Loss :\", min_val_loss)"
      ],
      "execution_count": 177,
      "outputs": []
    },
    {
      "cell_type": "code",
      "metadata": {
        "id": "ONahIzqRk2fg"
      },
      "source": [
        "def algo_evaluation(model):\n",
        "  predictions = model.predict(feature_test)\n",
        "  predictions = predictions.flatten()\n",
        "\n",
        "  print(\"MSE (Mean Squared Error)         -> \", mean_squared_error(label_test, predictions))\n",
        "  print(\"MAE (Mean Absolute Error)        -> \", mean_absolute_error(label_test, predictions))\n",
        "  print(\"r^2 score                        -> \", r2_score(label_test, predictions))\n",
        "  print('RMSE (Root Mean Squared Error)   -> ', np.sqrt(mean_squared_error(label_test, predictions)))"
      ],
      "execution_count": 178,
      "outputs": []
    },
    {
      "cell_type": "code",
      "metadata": {
        "id": "gfooHMrNk3qh"
      },
      "source": [
        "def reset_random_seeds():\n",
        "   os.environ['PYTHONHASHSEED']=str(1)\n",
        "   tf.random.set_seed(1)\n",
        "   np.random.seed(1)\n",
        "   random.seed(1)"
      ],
      "execution_count": 179,
      "outputs": []
    },
    {
      "cell_type": "markdown",
      "metadata": {
        "id": "b0oEUPYGlGRq"
      },
      "source": [
        "#Data Cleaning"
      ]
    },
    {
      "cell_type": "code",
      "metadata": {
        "id": "YU2Xta4blJE9"
      },
      "source": [
        "dataset = pd.read_csv('/content/drive/My Drive/Colab_Test/Dataset/6. Deep Learning/auto-mpg.csv')"
      ],
      "execution_count": 180,
      "outputs": []
    },
    {
      "cell_type": "code",
      "metadata": {
        "id": "qfYn3fKylQjH",
        "outputId": "d235f508-1d8c-4624-d98c-2618f3e526f4",
        "colab": {
          "base_uri": "https://localhost:8080/",
          "height": 301
        }
      },
      "source": [
        "dataset.info()"
      ],
      "execution_count": 181,
      "outputs": [
        {
          "output_type": "stream",
          "text": [
            "<class 'pandas.core.frame.DataFrame'>\n",
            "RangeIndex: 398 entries, 0 to 397\n",
            "Data columns (total 9 columns):\n",
            " #   Column        Non-Null Count  Dtype  \n",
            "---  ------        --------------  -----  \n",
            " 0   cylinders     398 non-null    int64  \n",
            " 1   displacement  398 non-null    float64\n",
            " 2   horsepower    398 non-null    object \n",
            " 3   weight        398 non-null    int64  \n",
            " 4   acceleration  398 non-null    float64\n",
            " 5   model year    398 non-null    int64  \n",
            " 6   origin        398 non-null    int64  \n",
            " 7   car name      398 non-null    object \n",
            " 8   mpg           398 non-null    float64\n",
            "dtypes: float64(3), int64(4), object(2)\n",
            "memory usage: 28.1+ KB\n"
          ],
          "name": "stdout"
        }
      ]
    },
    {
      "cell_type": "code",
      "metadata": {
        "id": "ui_kIuVpmbqy"
      },
      "source": [
        "dataset.drop(['car name'], axis=1, inplace=True)"
      ],
      "execution_count": 182,
      "outputs": []
    },
    {
      "cell_type": "code",
      "metadata": {
        "id": "ttRqMQMEmf4D",
        "outputId": "e4303c46-9535-49a1-9381-c3cdd636f754",
        "colab": {
          "base_uri": "https://localhost:8080/",
          "height": 283
        }
      },
      "source": [
        "dataset.info()"
      ],
      "execution_count": 183,
      "outputs": [
        {
          "output_type": "stream",
          "text": [
            "<class 'pandas.core.frame.DataFrame'>\n",
            "RangeIndex: 398 entries, 0 to 397\n",
            "Data columns (total 8 columns):\n",
            " #   Column        Non-Null Count  Dtype  \n",
            "---  ------        --------------  -----  \n",
            " 0   cylinders     398 non-null    int64  \n",
            " 1   displacement  398 non-null    float64\n",
            " 2   horsepower    398 non-null    object \n",
            " 3   weight        398 non-null    int64  \n",
            " 4   acceleration  398 non-null    float64\n",
            " 5   model year    398 non-null    int64  \n",
            " 6   origin        398 non-null    int64  \n",
            " 7   mpg           398 non-null    float64\n",
            "dtypes: float64(3), int64(4), object(1)\n",
            "memory usage: 25.0+ KB\n"
          ],
          "name": "stdout"
        }
      ]
    },
    {
      "cell_type": "code",
      "metadata": {
        "id": "eJz0IqEWmif3",
        "outputId": "2638f5c7-d573-4ccd-e8c0-b2c609d6206c",
        "colab": {
          "base_uri": "https://localhost:8080/",
          "height": 197
        }
      },
      "source": [
        "dataset.head()"
      ],
      "execution_count": 184,
      "outputs": [
        {
          "output_type": "execute_result",
          "data": {
            "text/html": [
              "<div>\n",
              "<style scoped>\n",
              "    .dataframe tbody tr th:only-of-type {\n",
              "        vertical-align: middle;\n",
              "    }\n",
              "\n",
              "    .dataframe tbody tr th {\n",
              "        vertical-align: top;\n",
              "    }\n",
              "\n",
              "    .dataframe thead th {\n",
              "        text-align: right;\n",
              "    }\n",
              "</style>\n",
              "<table border=\"1\" class=\"dataframe\">\n",
              "  <thead>\n",
              "    <tr style=\"text-align: right;\">\n",
              "      <th></th>\n",
              "      <th>cylinders</th>\n",
              "      <th>displacement</th>\n",
              "      <th>horsepower</th>\n",
              "      <th>weight</th>\n",
              "      <th>acceleration</th>\n",
              "      <th>model year</th>\n",
              "      <th>origin</th>\n",
              "      <th>mpg</th>\n",
              "    </tr>\n",
              "  </thead>\n",
              "  <tbody>\n",
              "    <tr>\n",
              "      <th>0</th>\n",
              "      <td>8</td>\n",
              "      <td>307.0</td>\n",
              "      <td>130</td>\n",
              "      <td>3504</td>\n",
              "      <td>12.0</td>\n",
              "      <td>70</td>\n",
              "      <td>1</td>\n",
              "      <td>18.0</td>\n",
              "    </tr>\n",
              "    <tr>\n",
              "      <th>1</th>\n",
              "      <td>8</td>\n",
              "      <td>350.0</td>\n",
              "      <td>165</td>\n",
              "      <td>3693</td>\n",
              "      <td>11.5</td>\n",
              "      <td>70</td>\n",
              "      <td>1</td>\n",
              "      <td>15.0</td>\n",
              "    </tr>\n",
              "    <tr>\n",
              "      <th>2</th>\n",
              "      <td>8</td>\n",
              "      <td>318.0</td>\n",
              "      <td>150</td>\n",
              "      <td>3436</td>\n",
              "      <td>11.0</td>\n",
              "      <td>70</td>\n",
              "      <td>1</td>\n",
              "      <td>18.0</td>\n",
              "    </tr>\n",
              "    <tr>\n",
              "      <th>3</th>\n",
              "      <td>8</td>\n",
              "      <td>304.0</td>\n",
              "      <td>150</td>\n",
              "      <td>3433</td>\n",
              "      <td>12.0</td>\n",
              "      <td>70</td>\n",
              "      <td>1</td>\n",
              "      <td>16.0</td>\n",
              "    </tr>\n",
              "    <tr>\n",
              "      <th>4</th>\n",
              "      <td>8</td>\n",
              "      <td>302.0</td>\n",
              "      <td>140</td>\n",
              "      <td>3449</td>\n",
              "      <td>10.5</td>\n",
              "      <td>70</td>\n",
              "      <td>1</td>\n",
              "      <td>17.0</td>\n",
              "    </tr>\n",
              "  </tbody>\n",
              "</table>\n",
              "</div>"
            ],
            "text/plain": [
              "   cylinders  displacement horsepower  weight  acceleration  model year  \\\n",
              "0          8         307.0        130    3504          12.0          70   \n",
              "1          8         350.0        165    3693          11.5          70   \n",
              "2          8         318.0        150    3436          11.0          70   \n",
              "3          8         304.0        150    3433          12.0          70   \n",
              "4          8         302.0        140    3449          10.5          70   \n",
              "\n",
              "   origin   mpg  \n",
              "0       1  18.0  \n",
              "1       1  15.0  \n",
              "2       1  18.0  \n",
              "3       1  16.0  \n",
              "4       1  17.0  "
            ]
          },
          "metadata": {
            "tags": []
          },
          "execution_count": 184
        }
      ]
    },
    {
      "cell_type": "code",
      "metadata": {
        "id": "4tQcM1PImDJD"
      },
      "source": [
        "dataset[['cylinders','weight', 'model year', 'origin']] = dataset[['cylinders','weight', 'model year', 'origin']].astype(float)"
      ],
      "execution_count": 185,
      "outputs": []
    },
    {
      "cell_type": "code",
      "metadata": {
        "id": "es0tCXoGmQmB",
        "outputId": "154fe4d3-1dc8-4f77-9158-84d757b686b9",
        "colab": {
          "base_uri": "https://localhost:8080/",
          "height": 283
        }
      },
      "source": [
        "dataset.info()"
      ],
      "execution_count": 186,
      "outputs": [
        {
          "output_type": "stream",
          "text": [
            "<class 'pandas.core.frame.DataFrame'>\n",
            "RangeIndex: 398 entries, 0 to 397\n",
            "Data columns (total 8 columns):\n",
            " #   Column        Non-Null Count  Dtype  \n",
            "---  ------        --------------  -----  \n",
            " 0   cylinders     398 non-null    float64\n",
            " 1   displacement  398 non-null    float64\n",
            " 2   horsepower    398 non-null    object \n",
            " 3   weight        398 non-null    float64\n",
            " 4   acceleration  398 non-null    float64\n",
            " 5   model year    398 non-null    float64\n",
            " 6   origin        398 non-null    float64\n",
            " 7   mpg           398 non-null    float64\n",
            "dtypes: float64(7), object(1)\n",
            "memory usage: 25.0+ KB\n"
          ],
          "name": "stdout"
        }
      ]
    },
    {
      "cell_type": "code",
      "metadata": {
        "id": "nXbfF-Y2m5Nc"
      },
      "source": [
        "dataset.replace(\"?\", np.nan, inplace=True)"
      ],
      "execution_count": 187,
      "outputs": []
    },
    {
      "cell_type": "code",
      "metadata": {
        "id": "2dRksNyTnkb-"
      },
      "source": [
        "avg_horsepower = dataset['horsepower'].astype(float).mean(axis=0)"
      ],
      "execution_count": 188,
      "outputs": []
    },
    {
      "cell_type": "code",
      "metadata": {
        "id": "6FD5Nf-znn7R"
      },
      "source": [
        "dataset['horsepower'].replace(np.nan, avg_horsepower, inplace=True)"
      ],
      "execution_count": 189,
      "outputs": []
    },
    {
      "cell_type": "code",
      "metadata": {
        "id": "CmJ0q9ogmrqe"
      },
      "source": [
        "dataset[['horsepower']] = dataset[['horsepower']].astype(float)"
      ],
      "execution_count": 190,
      "outputs": []
    },
    {
      "cell_type": "code",
      "metadata": {
        "id": "XvIpx2Lsm7Zd",
        "outputId": "ab163646-6eda-415a-8c33-a814207632a0",
        "colab": {
          "base_uri": "https://localhost:8080/",
          "height": 283
        }
      },
      "source": [
        "dataset.info()"
      ],
      "execution_count": 191,
      "outputs": [
        {
          "output_type": "stream",
          "text": [
            "<class 'pandas.core.frame.DataFrame'>\n",
            "RangeIndex: 398 entries, 0 to 397\n",
            "Data columns (total 8 columns):\n",
            " #   Column        Non-Null Count  Dtype  \n",
            "---  ------        --------------  -----  \n",
            " 0   cylinders     398 non-null    float64\n",
            " 1   displacement  398 non-null    float64\n",
            " 2   horsepower    398 non-null    float64\n",
            " 3   weight        398 non-null    float64\n",
            " 4   acceleration  398 non-null    float64\n",
            " 5   model year    398 non-null    float64\n",
            " 6   origin        398 non-null    float64\n",
            " 7   mpg           398 non-null    float64\n",
            "dtypes: float64(8)\n",
            "memory usage: 25.0 KB\n"
          ],
          "name": "stdout"
        }
      ]
    },
    {
      "cell_type": "code",
      "metadata": {
        "id": "Xn1Ykd-1lpIj",
        "outputId": "c4e527e4-965f-4c07-c08a-10b2fc9038b3",
        "colab": {
          "base_uri": "https://localhost:8080/",
          "height": 197
        }
      },
      "source": [
        "dataset.head()"
      ],
      "execution_count": 192,
      "outputs": [
        {
          "output_type": "execute_result",
          "data": {
            "text/html": [
              "<div>\n",
              "<style scoped>\n",
              "    .dataframe tbody tr th:only-of-type {\n",
              "        vertical-align: middle;\n",
              "    }\n",
              "\n",
              "    .dataframe tbody tr th {\n",
              "        vertical-align: top;\n",
              "    }\n",
              "\n",
              "    .dataframe thead th {\n",
              "        text-align: right;\n",
              "    }\n",
              "</style>\n",
              "<table border=\"1\" class=\"dataframe\">\n",
              "  <thead>\n",
              "    <tr style=\"text-align: right;\">\n",
              "      <th></th>\n",
              "      <th>cylinders</th>\n",
              "      <th>displacement</th>\n",
              "      <th>horsepower</th>\n",
              "      <th>weight</th>\n",
              "      <th>acceleration</th>\n",
              "      <th>model year</th>\n",
              "      <th>origin</th>\n",
              "      <th>mpg</th>\n",
              "    </tr>\n",
              "  </thead>\n",
              "  <tbody>\n",
              "    <tr>\n",
              "      <th>0</th>\n",
              "      <td>8.0</td>\n",
              "      <td>307.0</td>\n",
              "      <td>130.0</td>\n",
              "      <td>3504.0</td>\n",
              "      <td>12.0</td>\n",
              "      <td>70.0</td>\n",
              "      <td>1.0</td>\n",
              "      <td>18.0</td>\n",
              "    </tr>\n",
              "    <tr>\n",
              "      <th>1</th>\n",
              "      <td>8.0</td>\n",
              "      <td>350.0</td>\n",
              "      <td>165.0</td>\n",
              "      <td>3693.0</td>\n",
              "      <td>11.5</td>\n",
              "      <td>70.0</td>\n",
              "      <td>1.0</td>\n",
              "      <td>15.0</td>\n",
              "    </tr>\n",
              "    <tr>\n",
              "      <th>2</th>\n",
              "      <td>8.0</td>\n",
              "      <td>318.0</td>\n",
              "      <td>150.0</td>\n",
              "      <td>3436.0</td>\n",
              "      <td>11.0</td>\n",
              "      <td>70.0</td>\n",
              "      <td>1.0</td>\n",
              "      <td>18.0</td>\n",
              "    </tr>\n",
              "    <tr>\n",
              "      <th>3</th>\n",
              "      <td>8.0</td>\n",
              "      <td>304.0</td>\n",
              "      <td>150.0</td>\n",
              "      <td>3433.0</td>\n",
              "      <td>12.0</td>\n",
              "      <td>70.0</td>\n",
              "      <td>1.0</td>\n",
              "      <td>16.0</td>\n",
              "    </tr>\n",
              "    <tr>\n",
              "      <th>4</th>\n",
              "      <td>8.0</td>\n",
              "      <td>302.0</td>\n",
              "      <td>140.0</td>\n",
              "      <td>3449.0</td>\n",
              "      <td>10.5</td>\n",
              "      <td>70.0</td>\n",
              "      <td>1.0</td>\n",
              "      <td>17.0</td>\n",
              "    </tr>\n",
              "  </tbody>\n",
              "</table>\n",
              "</div>"
            ],
            "text/plain": [
              "   cylinders  displacement  horsepower  weight  acceleration  model year  \\\n",
              "0        8.0         307.0       130.0  3504.0          12.0        70.0   \n",
              "1        8.0         350.0       165.0  3693.0          11.5        70.0   \n",
              "2        8.0         318.0       150.0  3436.0          11.0        70.0   \n",
              "3        8.0         304.0       150.0  3433.0          12.0        70.0   \n",
              "4        8.0         302.0       140.0  3449.0          10.5        70.0   \n",
              "\n",
              "   origin   mpg  \n",
              "0     1.0  18.0  \n",
              "1     1.0  15.0  \n",
              "2     1.0  18.0  \n",
              "3     1.0  16.0  \n",
              "4     1.0  17.0  "
            ]
          },
          "metadata": {
            "tags": []
          },
          "execution_count": 192
        }
      ]
    },
    {
      "cell_type": "markdown",
      "metadata": {
        "id": "RWXVV2qflxlf"
      },
      "source": [
        "#EDA"
      ]
    },
    {
      "cell_type": "code",
      "metadata": {
        "id": "bsCVRYr5lyYX",
        "outputId": "eab6bc54-7cbe-403f-a3ea-bb9032468d33",
        "colab": {
          "base_uri": "https://localhost:8080/",
          "height": 0
        }
      },
      "source": [
        "pd.options.display.max_columns = None\n",
        "import missingno as msno\n",
        "\n",
        "msno.bar(dataset)"
      ],
      "execution_count": 193,
      "outputs": [
        {
          "output_type": "execute_result",
          "data": {
            "text/plain": [
              "<matplotlib.axes._subplots.AxesSubplot at 0x7efdff993d68>"
            ]
          },
          "metadata": {
            "tags": []
          },
          "execution_count": 193
        },
        {
          "output_type": "display_data",
          "data": {
            "image/png": "[encoded data removed]",
            "text/plain": [
              "<Figure size 1728x720 with 3 Axes>"
            ]
          },
          "metadata": {
            "tags": [],
            "needs_background": "light"
          }
        }
      ]
    },
    {
      "cell_type": "code",
      "metadata": {
        "id": "Qjb0Z6f_l6I0",
        "outputId": "d4b2c88e-595b-4ec5-b8fe-4f7f41f08251",
        "colab": {
          "base_uri": "https://localhost:8080/",
          "height": 0
        }
      },
      "source": [
        "dataset.hist(figsize=(18, 22), bins=50, xlabelsize=8, ylabelsize=8)"
      ],
      "execution_count": 194,
      "outputs": [
        {
          "output_type": "execute_result",
          "data": {
            "text/plain": [
              "array([[<matplotlib.axes._subplots.AxesSubplot object at 0x7efe02ce48d0>,\n",
              "        <matplotlib.axes._subplots.AxesSubplot object at 0x7efdff814198>,\n",
              "        <matplotlib.axes._subplots.AxesSubplot object at 0x7efdff8414a8>],\n",
              "       [<matplotlib.axes._subplots.AxesSubplot object at 0x7efdff7f1828>,\n",
              "        <matplotlib.axes._subplots.AxesSubplot object at 0x7efdff79fba8>,\n",
              "        <matplotlib.axes._subplots.AxesSubplot object at 0x7efdff750f28>],\n",
              "       [<matplotlib.axes._subplots.AxesSubplot object at 0x7efdff78d2e8>,\n",
              "        <matplotlib.axes._subplots.AxesSubplot object at 0x7efdff73f630>,\n",
              "        <matplotlib.axes._subplots.AxesSubplot object at 0x7efdff73f6a0>]],\n",
              "      dtype=object)"
            ]
          },
          "metadata": {
            "tags": []
          },
          "execution_count": 194
        },
        {
          "output_type": "display_data",
          "data": {
            "image/png": "[encoded data removed]",
            "text/plain": [
              "<Figure size 1296x1584 with 9 Axes>"
            ]
          },
          "metadata": {
            "tags": [],
            "needs_background": "light"
          }
        }
      ]
    },
    {
      "cell_type": "code",
      "metadata": {
        "id": "lxB1B7YYl7xN"
      },
      "source": [
        "corr = dataset.corr()"
      ],
      "execution_count": 195,
      "outputs": []
    },
    {
      "cell_type": "code",
      "metadata": {
        "id": "G2cXvkw-l9we",
        "outputId": "6e2c6c5f-baac-4c1d-d756-b7d441766ff4",
        "colab": {
          "base_uri": "https://localhost:8080/",
          "height": 0
        }
      },
      "source": [
        "plt.figure(figsize=(20,20))\n",
        "sb.heatmap(corr, cbar=True, square= True, fmt='.1f', annot=True, annot_kws={'size':15}, cmap='Reds')"
      ],
      "execution_count": 196,
      "outputs": [
        {
          "output_type": "execute_result",
          "data": {
            "text/plain": [
              "<matplotlib.axes._subplots.AxesSubplot at 0x7efdff6bcdd8>"
            ]
          },
          "metadata": {
            "tags": []
          },
          "execution_count": 196
        },
        {
          "output_type": "display_data",
          "data": {
            "image/png": "[encoded data removed]",
            "text/plain": [
              "<Figure size 1440x1440 with 2 Axes>"
            ]
          },
          "metadata": {
            "tags": [],
            "needs_background": "light"
          }
        }
      ]
    },
    {
      "cell_type": "markdown",
      "metadata": {
        "id": "MRoL383znNQE"
      },
      "source": [
        "#Split Data"
      ]
    },
    {
      "cell_type": "code",
      "metadata": {
        "id": "EtUXqncznPTK"
      },
      "source": [
        "from sklearn import preprocessing\n",
        "from sklearn.metrics import mean_squared_error, mean_absolute_error, r2_score\n",
        "from sklearn.linear_model import LinearRegression"
      ],
      "execution_count": 197,
      "outputs": []
    },
    {
      "cell_type": "code",
      "metadata": {
        "id": "fJpLJ6iFnWIj"
      },
      "source": [
        "label = dataset['mpg']\n",
        "features = dataset.drop(['mpg'], axis=1)"
      ],
      "execution_count": 198,
      "outputs": []
    },
    {
      "cell_type": "code",
      "metadata": {
        "id": "gYC1oVk8nZZB"
      },
      "source": [
        "scaler = preprocessing.StandardScaler()\n",
        "\n",
        "features = scaler.fit_transform(features.values)\n",
        "label = scaler.fit_transform(label.values.reshape(-1,1)).flatten()"
      ],
      "execution_count": 199,
      "outputs": []
    },
    {
      "cell_type": "code",
      "metadata": {
        "id": "Dpfz8r4enaoT"
      },
      "source": [
        "from sklearn.model_selection import train_test_split\n",
        "feature_train, feature_test, label_train, label_test = train_test_split(features, label, test_size=0.2, random_state=10)"
      ],
      "execution_count": 200,
      "outputs": []
    },
    {
      "cell_type": "code",
      "metadata": {
        "id": "07xt8l2Tnew_",
        "outputId": "6e6449c8-3cdb-4a21-ac20-ab010498b8e8",
        "colab": {
          "base_uri": "https://localhost:8080/",
          "height": 87
        }
      },
      "source": [
        "model = LinearRegression()\n",
        "model.fit(feature_train, label_train)\n",
        "algo_evaluation(model)"
      ],
      "execution_count": 201,
      "outputs": [
        {
          "output_type": "stream",
          "text": [
            "MSE (Mean Squared Error)         ->  0.2082842559141632\n",
            "MAE (Mean Absolute Error)        ->  0.3684300891993139\n",
            "r^2 score                        ->  0.7924612118571435\n",
            "RMSE (Root Mean Squared Error)   ->  0.4563816998020004\n"
          ],
          "name": "stdout"
        }
      ]
    },
    {
      "cell_type": "markdown",
      "metadata": {
        "id": "STcAgdGVn82a"
      },
      "source": [
        "#Deep Learning"
      ]
    },
    {
      "cell_type": "code",
      "metadata": {
        "id": "qKdnEIfDoBaY"
      },
      "source": [
        "from tensorflow.keras.models import Sequential\n",
        "from tensorflow.keras.layers import Dense\n",
        "import tensorflow as tf, random"
      ],
      "execution_count": 202,
      "outputs": []
    },
    {
      "cell_type": "markdown",
      "metadata": {
        "id": "VbzpqpHfn-ny"
      },
      "source": [
        "##Baseline Model"
      ]
    },
    {
      "cell_type": "code",
      "metadata": {
        "id": "O0rl3A1SnfAA"
      },
      "source": [
        "base_model = Sequential()\n",
        "base_model.add(Dense(200, input_dim=7, kernel_initializer='normal', activation='relu'))\n",
        "base_model.add(Dense(1, kernel_initializer='normal'))\n",
        "\n",
        "base_model.compile(loss='mean_squared_error', optimizer='adam')"
      ],
      "execution_count": 203,
      "outputs": []
    },
    {
      "cell_type": "code",
      "metadata": {
        "id": "AUQm5RQNoFTV",
        "outputId": "b56968b6-de77-4472-ec61-d272a7036058",
        "colab": {
          "base_uri": "https://localhost:8080/",
          "height": 1000
        }
      },
      "source": [
        "base_history = base_model.fit(x=feature_train, y=label_train, validation_data=(feature_test, label_test), epochs=100, batch_size=8)"
      ],
      "execution_count": 204,
      "outputs": [
        {
          "output_type": "stream",
          "text": [
            "Epoch 1/100\n",
            "40/40 [==============================] - 0s 4ms/step - loss: 0.4290 - val_loss: 0.2695\n",
            "Epoch 2/100\n",
            "40/40 [==============================] - 0s 2ms/step - loss: 0.2019 - val_loss: 0.1979\n",
            "Epoch 3/100\n",
            "40/40 [==============================] - 0s 2ms/step - loss: 0.1538 - val_loss: 0.1814\n",
            "Epoch 4/100\n",
            "40/40 [==============================] - 0s 2ms/step - loss: 0.1339 - val_loss: 0.1672\n",
            "Epoch 5/100\n",
            "40/40 [==============================] - 0s 2ms/step - loss: 0.1247 - val_loss: 0.1700\n",
            "Epoch 6/100\n",
            "40/40 [==============================] - 0s 2ms/step - loss: 0.1218 - val_loss: 0.1616\n",
            "Epoch 7/100\n",
            "40/40 [==============================] - 0s 2ms/step - loss: 0.1160 - val_loss: 0.1564\n",
            "Epoch 8/100\n",
            "40/40 [==============================] - 0s 2ms/step - loss: 0.1115 - val_loss: 0.1532\n",
            "Epoch 9/100\n",
            "40/40 [==============================] - 0s 2ms/step - loss: 0.1112 - val_loss: 0.1505\n",
            "Epoch 10/100\n",
            "40/40 [==============================] - 0s 2ms/step - loss: 0.1076 - val_loss: 0.1549\n",
            "Epoch 11/100\n",
            "40/40 [==============================] - 0s 2ms/step - loss: 0.1036 - val_loss: 0.1447\n",
            "Epoch 12/100\n",
            "40/40 [==============================] - 0s 2ms/step - loss: 0.1078 - val_loss: 0.1493\n",
            "Epoch 13/100\n",
            "40/40 [==============================] - 0s 2ms/step - loss: 0.1027 - val_loss: 0.1536\n",
            "Epoch 14/100\n",
            "40/40 [==============================] - 0s 2ms/step - loss: 0.1036 - val_loss: 0.1558\n",
            "Epoch 15/100\n",
            "40/40 [==============================] - 0s 2ms/step - loss: 0.1012 - val_loss: 0.1676\n",
            "Epoch 16/100\n",
            "40/40 [==============================] - 0s 2ms/step - loss: 0.1008 - val_loss: 0.1451\n",
            "Epoch 17/100\n",
            "40/40 [==============================] - 0s 2ms/step - loss: 0.0990 - val_loss: 0.1460\n",
            "Epoch 18/100\n",
            "40/40 [==============================] - 0s 2ms/step - loss: 0.0988 - val_loss: 0.1476\n",
            "Epoch 19/100\n",
            "40/40 [==============================] - 0s 2ms/step - loss: 0.0968 - val_loss: 0.1550\n",
            "Epoch 20/100\n",
            "40/40 [==============================] - 0s 2ms/step - loss: 0.0975 - val_loss: 0.1474\n",
            "Epoch 21/100\n",
            "40/40 [==============================] - 0s 2ms/step - loss: 0.0976 - val_loss: 0.1564\n",
            "Epoch 22/100\n",
            "40/40 [==============================] - 0s 2ms/step - loss: 0.0943 - val_loss: 0.1546\n",
            "Epoch 23/100\n",
            "40/40 [==============================] - 0s 2ms/step - loss: 0.0931 - val_loss: 0.1475\n",
            "Epoch 24/100\n",
            "40/40 [==============================] - 0s 2ms/step - loss: 0.0926 - val_loss: 0.1385\n",
            "Epoch 25/100\n",
            "40/40 [==============================] - 0s 2ms/step - loss: 0.0956 - val_loss: 0.1497\n",
            "Epoch 26/100\n",
            "40/40 [==============================] - 0s 2ms/step - loss: 0.0944 - val_loss: 0.1404\n",
            "Epoch 27/100\n",
            "40/40 [==============================] - 0s 2ms/step - loss: 0.0912 - val_loss: 0.1738\n",
            "Epoch 28/100\n",
            "40/40 [==============================] - 0s 2ms/step - loss: 0.0930 - val_loss: 0.1470\n",
            "Epoch 29/100\n",
            "40/40 [==============================] - 0s 2ms/step - loss: 0.0906 - val_loss: 0.1396\n",
            "Epoch 30/100\n",
            "40/40 [==============================] - 0s 2ms/step - loss: 0.0901 - val_loss: 0.1440\n",
            "Epoch 31/100\n",
            "40/40 [==============================] - 0s 2ms/step - loss: 0.0910 - val_loss: 0.1370\n",
            "Epoch 32/100\n",
            "40/40 [==============================] - 0s 2ms/step - loss: 0.0899 - val_loss: 0.1403\n",
            "Epoch 33/100\n",
            "40/40 [==============================] - 0s 2ms/step - loss: 0.0874 - val_loss: 0.1490\n",
            "Epoch 34/100\n",
            "40/40 [==============================] - 0s 2ms/step - loss: 0.0906 - val_loss: 0.1430\n",
            "Epoch 35/100\n",
            "40/40 [==============================] - 0s 2ms/step - loss: 0.0897 - val_loss: 0.1485\n",
            "Epoch 36/100\n",
            "40/40 [==============================] - 0s 2ms/step - loss: 0.0910 - val_loss: 0.1437\n",
            "Epoch 37/100\n",
            "40/40 [==============================] - 0s 2ms/step - loss: 0.0881 - val_loss: 0.1563\n",
            "Epoch 38/100\n",
            "40/40 [==============================] - 0s 2ms/step - loss: 0.0861 - val_loss: 0.1448\n",
            "Epoch 39/100\n",
            "40/40 [==============================] - 0s 2ms/step - loss: 0.0861 - val_loss: 0.1484\n",
            "Epoch 40/100\n",
            "40/40 [==============================] - 0s 2ms/step - loss: 0.0861 - val_loss: 0.1382\n",
            "Epoch 41/100\n",
            "40/40 [==============================] - 0s 2ms/step - loss: 0.0887 - val_loss: 0.1368\n",
            "Epoch 42/100\n",
            "40/40 [==============================] - 0s 2ms/step - loss: 0.0865 - val_loss: 0.1613\n",
            "Epoch 43/100\n",
            "40/40 [==============================] - 0s 2ms/step - loss: 0.0858 - val_loss: 0.1471\n",
            "Epoch 44/100\n",
            "40/40 [==============================] - 0s 2ms/step - loss: 0.0837 - val_loss: 0.1492\n",
            "Epoch 45/100\n",
            "40/40 [==============================] - 0s 2ms/step - loss: 0.0842 - val_loss: 0.1505\n",
            "Epoch 46/100\n",
            "40/40 [==============================] - 0s 2ms/step - loss: 0.0846 - val_loss: 0.1395\n",
            "Epoch 47/100\n",
            "40/40 [==============================] - 0s 2ms/step - loss: 0.0830 - val_loss: 0.1365\n",
            "Epoch 48/100\n",
            "40/40 [==============================] - 0s 2ms/step - loss: 0.0823 - val_loss: 0.1457\n",
            "Epoch 49/100\n",
            "40/40 [==============================] - 0s 1ms/step - loss: 0.0863 - val_loss: 0.1491\n",
            "Epoch 50/100\n",
            "40/40 [==============================] - 0s 2ms/step - loss: 0.0833 - val_loss: 0.1340\n",
            "Epoch 51/100\n",
            "40/40 [==============================] - 0s 2ms/step - loss: 0.0842 - val_loss: 0.1406\n",
            "Epoch 52/100\n",
            "40/40 [==============================] - 0s 2ms/step - loss: 0.0830 - val_loss: 0.1336\n",
            "Epoch 53/100\n",
            "40/40 [==============================] - 0s 2ms/step - loss: 0.0834 - val_loss: 0.1602\n",
            "Epoch 54/100\n",
            "40/40 [==============================] - 0s 2ms/step - loss: 0.0832 - val_loss: 0.1377\n",
            "Epoch 55/100\n",
            "40/40 [==============================] - 0s 2ms/step - loss: 0.0808 - val_loss: 0.1415\n",
            "Epoch 56/100\n",
            "40/40 [==============================] - 0s 2ms/step - loss: 0.0809 - val_loss: 0.1496\n",
            "Epoch 57/100\n",
            "40/40 [==============================] - 0s 2ms/step - loss: 0.0826 - val_loss: 0.1423\n",
            "Epoch 58/100\n",
            "40/40 [==============================] - 0s 2ms/step - loss: 0.0797 - val_loss: 0.1393\n",
            "Epoch 59/100\n",
            "40/40 [==============================] - 0s 2ms/step - loss: 0.0788 - val_loss: 0.1475\n",
            "Epoch 60/100\n",
            "40/40 [==============================] - 0s 2ms/step - loss: 0.0794 - val_loss: 0.1417\n",
            "Epoch 61/100\n",
            "40/40 [==============================] - 0s 2ms/step - loss: 0.0785 - val_loss: 0.1392\n",
            "Epoch 62/100\n",
            "40/40 [==============================] - 0s 2ms/step - loss: 0.0774 - val_loss: 0.1477\n",
            "Epoch 63/100\n",
            "40/40 [==============================] - 0s 2ms/step - loss: 0.0811 - val_loss: 0.1437\n",
            "Epoch 64/100\n",
            "40/40 [==============================] - 0s 2ms/step - loss: 0.0784 - val_loss: 0.1404\n",
            "Epoch 65/100\n",
            "40/40 [==============================] - 0s 2ms/step - loss: 0.0776 - val_loss: 0.1466\n",
            "Epoch 66/100\n",
            "40/40 [==============================] - 0s 2ms/step - loss: 0.0800 - val_loss: 0.1319\n",
            "Epoch 67/100\n",
            "40/40 [==============================] - 0s 2ms/step - loss: 0.0794 - val_loss: 0.1407\n",
            "Epoch 68/100\n",
            "40/40 [==============================] - 0s 2ms/step - loss: 0.0759 - val_loss: 0.1415\n",
            "Epoch 69/100\n",
            "40/40 [==============================] - 0s 2ms/step - loss: 0.0747 - val_loss: 0.1371\n",
            "Epoch 70/100\n",
            "40/40 [==============================] - 0s 2ms/step - loss: 0.0751 - val_loss: 0.1299\n",
            "Epoch 71/100\n",
            "40/40 [==============================] - 0s 2ms/step - loss: 0.0784 - val_loss: 0.1472\n",
            "Epoch 72/100\n",
            "40/40 [==============================] - 0s 2ms/step - loss: 0.0766 - val_loss: 0.1491\n",
            "Epoch 73/100\n",
            "40/40 [==============================] - 0s 2ms/step - loss: 0.0730 - val_loss: 0.1671\n",
            "Epoch 74/100\n",
            "40/40 [==============================] - 0s 2ms/step - loss: 0.0785 - val_loss: 0.1333\n",
            "Epoch 75/100\n",
            "40/40 [==============================] - 0s 2ms/step - loss: 0.0759 - val_loss: 0.1580\n",
            "Epoch 76/100\n",
            "40/40 [==============================] - 0s 2ms/step - loss: 0.0757 - val_loss: 0.1521\n",
            "Epoch 77/100\n",
            "40/40 [==============================] - 0s 2ms/step - loss: 0.0741 - val_loss: 0.1398\n",
            "Epoch 78/100\n",
            "40/40 [==============================] - 0s 2ms/step - loss: 0.0727 - val_loss: 0.1316\n",
            "Epoch 79/100\n",
            "40/40 [==============================] - 0s 2ms/step - loss: 0.0734 - val_loss: 0.1397\n",
            "Epoch 80/100\n",
            "40/40 [==============================] - 0s 2ms/step - loss: 0.0718 - val_loss: 0.1389\n",
            "Epoch 81/100\n",
            "40/40 [==============================] - 0s 2ms/step - loss: 0.0738 - val_loss: 0.1525\n",
            "Epoch 82/100\n",
            "40/40 [==============================] - 0s 2ms/step - loss: 0.0716 - val_loss: 0.1401\n",
            "Epoch 83/100\n",
            "40/40 [==============================] - 0s 2ms/step - loss: 0.0719 - val_loss: 0.1656\n",
            "Epoch 84/100\n",
            "40/40 [==============================] - 0s 2ms/step - loss: 0.0781 - val_loss: 0.1344\n",
            "Epoch 85/100\n",
            "40/40 [==============================] - 0s 2ms/step - loss: 0.0688 - val_loss: 0.1568\n",
            "Epoch 86/100\n",
            "40/40 [==============================] - 0s 2ms/step - loss: 0.0726 - val_loss: 0.1307\n",
            "Epoch 87/100\n",
            "40/40 [==============================] - 0s 2ms/step - loss: 0.0733 - val_loss: 0.1365\n",
            "Epoch 88/100\n",
            "40/40 [==============================] - 0s 2ms/step - loss: 0.0733 - val_loss: 0.1454\n",
            "Epoch 89/100\n",
            "40/40 [==============================] - 0s 2ms/step - loss: 0.0746 - val_loss: 0.1440\n",
            "Epoch 90/100\n",
            "40/40 [==============================] - 0s 2ms/step - loss: 0.0728 - val_loss: 0.1434\n",
            "Epoch 91/100\n",
            "40/40 [==============================] - 0s 2ms/step - loss: 0.0733 - val_loss: 0.1377\n",
            "Epoch 92/100\n",
            "40/40 [==============================] - 0s 2ms/step - loss: 0.0741 - val_loss: 0.1376\n",
            "Epoch 93/100\n",
            "40/40 [==============================] - 0s 2ms/step - loss: 0.0715 - val_loss: 0.1522\n",
            "Epoch 94/100\n",
            "40/40 [==============================] - 0s 3ms/step - loss: 0.0695 - val_loss: 0.1392\n",
            "Epoch 95/100\n",
            "40/40 [==============================] - 0s 1ms/step - loss: 0.0709 - val_loss: 0.1400\n",
            "Epoch 96/100\n",
            "40/40 [==============================] - 0s 2ms/step - loss: 0.0692 - val_loss: 0.1382\n",
            "Epoch 97/100\n",
            "40/40 [==============================] - 0s 2ms/step - loss: 0.0699 - val_loss: 0.1421\n",
            "Epoch 98/100\n",
            "40/40 [==============================] - 0s 2ms/step - loss: 0.0716 - val_loss: 0.1311\n",
            "Epoch 99/100\n",
            "40/40 [==============================] - 0s 2ms/step - loss: 0.0702 - val_loss: 0.1562\n",
            "Epoch 100/100\n",
            "40/40 [==============================] - 0s 2ms/step - loss: 0.0686 - val_loss: 0.1325\n"
          ],
          "name": "stdout"
        }
      ]
    },
    {
      "cell_type": "code",
      "metadata": {
        "id": "JgwLlkPloHnH",
        "outputId": "852c9ea2-5bc6-4885-bbf1-925c05756a13",
        "colab": {
          "base_uri": "https://localhost:8080/",
          "height": 87
        }
      },
      "source": [
        "predictions = base_model.predict(feature_test)\n",
        "predictions = predictions.flatten()\n",
        "algo_evaluation(base_model)"
      ],
      "execution_count": 205,
      "outputs": [
        {
          "output_type": "stream",
          "text": [
            "MSE (Mean Squared Error)         ->  0.132482797384534\n",
            "MAE (Mean Absolute Error)        ->  0.260282381201443\n",
            "r^2 score                        ->  0.8679913702632762\n",
            "RMSE (Root Mean Squared Error)   ->  0.3639818640873938\n"
          ],
          "name": "stdout"
        }
      ]
    },
    {
      "cell_type": "code",
      "metadata": {
        "id": "FzapOmI2oKrJ",
        "outputId": "d883f513-3c83-432e-cc7e-2efb3311f10f",
        "colab": {
          "base_uri": "https://localhost:8080/",
          "height": 367
        }
      },
      "source": [
        "plot_loss(base_history)"
      ],
      "execution_count": 206,
      "outputs": [
        {
          "output_type": "display_data",
          "data": {
            "image/png": "[encoded data removed]",
            "text/plain": [
              "<Figure size 432x288 with 1 Axes>"
            ]
          },
          "metadata": {
            "tags": [],
            "needs_background": "light"
          }
        },
        {
          "output_type": "stream",
          "text": [
            "Minimun Loss : 99    0.068574\n",
            "Name: loss, dtype: float64\n",
            "---------------------------------------\n",
            "Minimun Validation Loss : 69    0.129907\n",
            "Name: val_loss, dtype: float64\n"
          ],
          "name": "stdout"
        }
      ]
    },
    {
      "cell_type": "markdown",
      "metadata": {
        "id": "lAEwm_qloNpv"
      },
      "source": [
        "##Deeper Model"
      ]
    },
    {
      "cell_type": "code",
      "metadata": {
        "id": "Fm09VE2XoMoy"
      },
      "source": [
        "deeper_model = Sequential()\n",
        "deeper_model.add(Dense(200, input_dim=7, kernel_initializer='normal', activation='relu'))\n",
        "deeper_model.add(Dense(100, kernel_initializer='normal', activation='relu'))\n",
        "deeper_model.add(Dense(1, kernel_initializer='normal'))\n",
        "\n",
        "deeper_model.compile(loss='mean_squared_error', optimizer='adam')"
      ],
      "execution_count": 207,
      "outputs": []
    },
    {
      "cell_type": "code",
      "metadata": {
        "id": "k8QYPKv4oQOX",
        "outputId": "f43e120c-4a26-483b-a048-07f9b54a4f6d",
        "colab": {
          "base_uri": "https://localhost:8080/",
          "height": 1000
        }
      },
      "source": [
        "history_deeper_model = deeper_model.fit(x=feature_train, y=label_train, validation_data=(feature_test, label_test), epochs=50, batch_size=8)"
      ],
      "execution_count": 208,
      "outputs": [
        {
          "output_type": "stream",
          "text": [
            "Epoch 1/50\n",
            "40/40 [==============================] - 0s 5ms/step - loss: 0.4783 - val_loss: 0.2443\n",
            "Epoch 2/50\n",
            "40/40 [==============================] - 0s 2ms/step - loss: 0.1618 - val_loss: 0.1723\n",
            "Epoch 3/50\n",
            "40/40 [==============================] - 0s 2ms/step - loss: 0.1390 - val_loss: 0.1877\n",
            "Epoch 4/50\n",
            "40/40 [==============================] - 0s 2ms/step - loss: 0.1221 - val_loss: 0.1501\n",
            "Epoch 5/50\n",
            "40/40 [==============================] - 0s 2ms/step - loss: 0.1146 - val_loss: 0.1585\n",
            "Epoch 6/50\n",
            "40/40 [==============================] - 0s 2ms/step - loss: 0.1032 - val_loss: 0.1561\n",
            "Epoch 7/50\n",
            "40/40 [==============================] - 0s 2ms/step - loss: 0.1034 - val_loss: 0.1766\n",
            "Epoch 8/50\n",
            "40/40 [==============================] - 0s 2ms/step - loss: 0.1028 - val_loss: 0.1648\n",
            "Epoch 9/50\n",
            "40/40 [==============================] - 0s 2ms/step - loss: 0.1020 - val_loss: 0.1515\n",
            "Epoch 10/50\n",
            "40/40 [==============================] - 0s 2ms/step - loss: 0.0948 - val_loss: 0.1565\n",
            "Epoch 11/50\n",
            "40/40 [==============================] - 0s 2ms/step - loss: 0.0893 - val_loss: 0.1714\n",
            "Epoch 12/50\n",
            "40/40 [==============================] - 0s 2ms/step - loss: 0.0925 - val_loss: 0.1849\n",
            "Epoch 13/50\n",
            "40/40 [==============================] - 0s 2ms/step - loss: 0.0910 - val_loss: 0.1582\n",
            "Epoch 14/50\n",
            "40/40 [==============================] - 0s 2ms/step - loss: 0.0864 - val_loss: 0.1736\n",
            "Epoch 15/50\n",
            "40/40 [==============================] - 0s 2ms/step - loss: 0.0858 - val_loss: 0.1572\n",
            "Epoch 16/50\n",
            "40/40 [==============================] - 0s 2ms/step - loss: 0.0857 - val_loss: 0.1433\n",
            "Epoch 17/50\n",
            "40/40 [==============================] - 0s 2ms/step - loss: 0.0896 - val_loss: 0.1448\n",
            "Epoch 18/50\n",
            "40/40 [==============================] - 0s 2ms/step - loss: 0.0841 - val_loss: 0.1409\n",
            "Epoch 19/50\n",
            "40/40 [==============================] - 0s 2ms/step - loss: 0.0846 - val_loss: 0.1532\n",
            "Epoch 20/50\n",
            "40/40 [==============================] - 0s 2ms/step - loss: 0.0887 - val_loss: 0.1463\n",
            "Epoch 21/50\n",
            "40/40 [==============================] - 0s 2ms/step - loss: 0.0841 - val_loss: 0.1477\n",
            "Epoch 22/50\n",
            "40/40 [==============================] - 0s 2ms/step - loss: 0.0803 - val_loss: 0.1517\n",
            "Epoch 23/50\n",
            "40/40 [==============================] - 0s 2ms/step - loss: 0.0817 - val_loss: 0.1431\n",
            "Epoch 24/50\n",
            "40/40 [==============================] - 0s 2ms/step - loss: 0.0823 - val_loss: 0.1775\n",
            "Epoch 25/50\n",
            "40/40 [==============================] - 0s 2ms/step - loss: 0.0910 - val_loss: 0.1434\n",
            "Epoch 26/50\n",
            "40/40 [==============================] - 0s 2ms/step - loss: 0.0905 - val_loss: 0.1723\n",
            "Epoch 27/50\n",
            "40/40 [==============================] - 0s 2ms/step - loss: 0.0830 - val_loss: 0.1552\n",
            "Epoch 28/50\n",
            "40/40 [==============================] - 0s 2ms/step - loss: 0.0795 - val_loss: 0.1578\n",
            "Epoch 29/50\n",
            "40/40 [==============================] - 0s 2ms/step - loss: 0.0725 - val_loss: 0.1399\n",
            "Epoch 30/50\n",
            "40/40 [==============================] - 0s 2ms/step - loss: 0.0741 - val_loss: 0.1633\n",
            "Epoch 31/50\n",
            "40/40 [==============================] - 0s 2ms/step - loss: 0.0806 - val_loss: 0.1657\n",
            "Epoch 32/50\n",
            "40/40 [==============================] - 0s 2ms/step - loss: 0.0802 - val_loss: 0.1460\n",
            "Epoch 33/50\n",
            "40/40 [==============================] - 0s 3ms/step - loss: 0.0719 - val_loss: 0.1569\n",
            "Epoch 34/50\n",
            "40/40 [==============================] - 0s 2ms/step - loss: 0.0698 - val_loss: 0.1391\n",
            "Epoch 35/50\n",
            "40/40 [==============================] - 0s 3ms/step - loss: 0.0809 - val_loss: 0.1865\n",
            "Epoch 36/50\n",
            "40/40 [==============================] - 0s 2ms/step - loss: 0.0775 - val_loss: 0.1343\n",
            "Epoch 37/50\n",
            "40/40 [==============================] - 0s 2ms/step - loss: 0.0687 - val_loss: 0.1598\n",
            "Epoch 38/50\n",
            "40/40 [==============================] - 0s 2ms/step - loss: 0.0711 - val_loss: 0.1792\n",
            "Epoch 39/50\n",
            "40/40 [==============================] - 0s 2ms/step - loss: 0.0781 - val_loss: 0.1380\n",
            "Epoch 40/50\n",
            "40/40 [==============================] - 0s 2ms/step - loss: 0.0665 - val_loss: 0.1353\n",
            "Epoch 41/50\n",
            "40/40 [==============================] - 0s 2ms/step - loss: 0.0699 - val_loss: 0.1577\n",
            "Epoch 42/50\n",
            "40/40 [==============================] - 0s 2ms/step - loss: 0.0712 - val_loss: 0.1669\n",
            "Epoch 43/50\n",
            "40/40 [==============================] - 0s 2ms/step - loss: 0.0709 - val_loss: 0.1552\n",
            "Epoch 44/50\n",
            "40/40 [==============================] - 0s 2ms/step - loss: 0.0669 - val_loss: 0.1513\n",
            "Epoch 45/50\n",
            "40/40 [==============================] - 0s 2ms/step - loss: 0.0656 - val_loss: 0.1348\n",
            "Epoch 46/50\n",
            "40/40 [==============================] - 0s 2ms/step - loss: 0.0678 - val_loss: 0.1476\n",
            "Epoch 47/50\n",
            "40/40 [==============================] - 0s 2ms/step - loss: 0.0613 - val_loss: 0.1503\n",
            "Epoch 48/50\n",
            "40/40 [==============================] - 0s 2ms/step - loss: 0.0646 - val_loss: 0.1508\n",
            "Epoch 49/50\n",
            "40/40 [==============================] - 0s 2ms/step - loss: 0.0612 - val_loss: 0.1582\n",
            "Epoch 50/50\n",
            "40/40 [==============================] - 0s 2ms/step - loss: 0.0639 - val_loss: 0.1474\n"
          ],
          "name": "stdout"
        }
      ]
    },
    {
      "cell_type": "code",
      "metadata": {
        "id": "xIMWBqPIoSe1",
        "outputId": "140f29d9-40a1-4f46-bcb4-9393c4e0f3c8",
        "colab": {
          "base_uri": "https://localhost:8080/",
          "height": 87
        }
      },
      "source": [
        "predictions = deeper_model.predict(feature_test)\n",
        "predictions = predictions.flatten()\n",
        "algo_evaluation(deeper_model)"
      ],
      "execution_count": 209,
      "outputs": [
        {
          "output_type": "stream",
          "text": [
            "MSE (Mean Squared Error)         ->  0.1473911706491441\n",
            "MAE (Mean Absolute Error)        ->  0.29585373992192093\n",
            "r^2 score                        ->  0.8531363553849858\n",
            "RMSE (Root Mean Squared Error)   ->  0.383915577502586\n"
          ],
          "name": "stdout"
        }
      ]
    },
    {
      "cell_type": "code",
      "metadata": {
        "id": "NiUGZxsUofr4",
        "outputId": "512fb1c5-38d5-4f4c-a8e5-8217e48a458c",
        "colab": {
          "base_uri": "https://localhost:8080/",
          "height": 367
        }
      },
      "source": [
        "plot_loss(history_deeper_model)"
      ],
      "execution_count": 210,
      "outputs": [
        {
          "output_type": "display_data",
          "data": {
            "image/png": "[encoded data removed]",
            "text/plain": [
              "<Figure size 432x288 with 1 Axes>"
            ]
          },
          "metadata": {
            "tags": [],
            "needs_background": "light"
          }
        },
        {
          "output_type": "stream",
          "text": [
            "Minimun Loss : 48    0.061161\n",
            "Name: loss, dtype: float64\n",
            "---------------------------------------\n",
            "Minimun Validation Loss : 35    0.134269\n",
            "Name: val_loss, dtype: float64\n"
          ],
          "name": "stdout"
        }
      ]
    },
    {
      "cell_type": "markdown",
      "metadata": {
        "id": "0VuwzBxVok4a"
      },
      "source": [
        "#Wider Model"
      ]
    },
    {
      "cell_type": "code",
      "metadata": {
        "id": "bXShh7oYohAW"
      },
      "source": [
        "wider_model = Sequential()\n",
        "wider_model.add(Dense(200, input_dim=7, kernel_initializer='normal', activation='relu'))\n",
        "wider_model.add(Dense(1, kernel_initializer='normal'))\n",
        "\n",
        "wider_model.compile(loss='mean_squared_error', optimizer='adam')"
      ],
      "execution_count": 211,
      "outputs": []
    },
    {
      "cell_type": "code",
      "metadata": {
        "id": "vAsQE1RJomzf",
        "outputId": "8e1db581-f3c5-4b3b-a506-7bd0db1295fa",
        "colab": {
          "base_uri": "https://localhost:8080/",
          "height": 1000
        }
      },
      "source": [
        "history_wider_model = wider_model.fit(x=feature_train, y=label_train, validation_data=(feature_test, label_test), epochs=100, batch_size=8)"
      ],
      "execution_count": 212,
      "outputs": [
        {
          "output_type": "stream",
          "text": [
            "Epoch 1/100\n",
            "40/40 [==============================] - 0s 4ms/step - loss: 0.4512 - val_loss: 0.2742\n",
            "Epoch 2/100\n",
            "40/40 [==============================] - 0s 2ms/step - loss: 0.2007 - val_loss: 0.2065\n",
            "Epoch 3/100\n",
            "40/40 [==============================] - 0s 2ms/step - loss: 0.1544 - val_loss: 0.1821\n",
            "Epoch 4/100\n",
            "40/40 [==============================] - 0s 2ms/step - loss: 0.1362 - val_loss: 0.1779\n",
            "Epoch 5/100\n",
            "40/40 [==============================] - 0s 2ms/step - loss: 0.1249 - val_loss: 0.1726\n",
            "Epoch 6/100\n",
            "40/40 [==============================] - 0s 2ms/step - loss: 0.1176 - val_loss: 0.1595\n",
            "Epoch 7/100\n",
            "40/40 [==============================] - 0s 2ms/step - loss: 0.1140 - val_loss: 0.1511\n",
            "Epoch 8/100\n",
            "40/40 [==============================] - 0s 2ms/step - loss: 0.1114 - val_loss: 0.1526\n",
            "Epoch 9/100\n",
            "40/40 [==============================] - 0s 2ms/step - loss: 0.1085 - val_loss: 0.1721\n",
            "Epoch 10/100\n",
            "40/40 [==============================] - 0s 2ms/step - loss: 0.1080 - val_loss: 0.1530\n",
            "Epoch 11/100\n",
            "40/40 [==============================] - 0s 2ms/step - loss: 0.1042 - val_loss: 0.1553\n",
            "Epoch 12/100\n",
            "40/40 [==============================] - 0s 2ms/step - loss: 0.1053 - val_loss: 0.1531\n",
            "Epoch 13/100\n",
            "40/40 [==============================] - 0s 2ms/step - loss: 0.1006 - val_loss: 0.1478\n",
            "Epoch 14/100\n",
            "40/40 [==============================] - 0s 2ms/step - loss: 0.0996 - val_loss: 0.1440\n",
            "Epoch 15/100\n",
            "40/40 [==============================] - 0s 2ms/step - loss: 0.0992 - val_loss: 0.1520\n",
            "Epoch 16/100\n",
            "40/40 [==============================] - 0s 2ms/step - loss: 0.0989 - val_loss: 0.1506\n",
            "Epoch 17/100\n",
            "40/40 [==============================] - 0s 2ms/step - loss: 0.1015 - val_loss: 0.1515\n",
            "Epoch 18/100\n",
            "40/40 [==============================] - 0s 2ms/step - loss: 0.0963 - val_loss: 0.1419\n",
            "Epoch 19/100\n",
            "40/40 [==============================] - 0s 2ms/step - loss: 0.0955 - val_loss: 0.1630\n",
            "Epoch 20/100\n",
            "40/40 [==============================] - 0s 2ms/step - loss: 0.0951 - val_loss: 0.1677\n",
            "Epoch 21/100\n",
            "40/40 [==============================] - 0s 2ms/step - loss: 0.0968 - val_loss: 0.1578\n",
            "Epoch 22/100\n",
            "40/40 [==============================] - 0s 2ms/step - loss: 0.0945 - val_loss: 0.1530\n",
            "Epoch 23/100\n",
            "40/40 [==============================] - 0s 2ms/step - loss: 0.0944 - val_loss: 0.1640\n",
            "Epoch 24/100\n",
            "40/40 [==============================] - 0s 2ms/step - loss: 0.0927 - val_loss: 0.1416\n",
            "Epoch 25/100\n",
            "40/40 [==============================] - 0s 2ms/step - loss: 0.0958 - val_loss: 0.1446\n",
            "Epoch 26/100\n",
            "40/40 [==============================] - 0s 2ms/step - loss: 0.0896 - val_loss: 0.1400\n",
            "Epoch 27/100\n",
            "40/40 [==============================] - 0s 2ms/step - loss: 0.0927 - val_loss: 0.1455\n",
            "Epoch 28/100\n",
            "40/40 [==============================] - 0s 2ms/step - loss: 0.0904 - val_loss: 0.1439\n",
            "Epoch 29/100\n",
            "40/40 [==============================] - 0s 2ms/step - loss: 0.0891 - val_loss: 0.1403\n",
            "Epoch 30/100\n",
            "40/40 [==============================] - 0s 2ms/step - loss: 0.0901 - val_loss: 0.1467\n",
            "Epoch 31/100\n",
            "40/40 [==============================] - 0s 2ms/step - loss: 0.0883 - val_loss: 0.1464\n",
            "Epoch 32/100\n",
            "40/40 [==============================] - 0s 2ms/step - loss: 0.0893 - val_loss: 0.1523\n",
            "Epoch 33/100\n",
            "40/40 [==============================] - 0s 2ms/step - loss: 0.0880 - val_loss: 0.1750\n",
            "Epoch 34/100\n",
            "40/40 [==============================] - 0s 2ms/step - loss: 0.0905 - val_loss: 0.1808\n",
            "Epoch 35/100\n",
            "40/40 [==============================] - 0s 2ms/step - loss: 0.0983 - val_loss: 0.1404\n",
            "Epoch 36/100\n",
            "40/40 [==============================] - 0s 2ms/step - loss: 0.0961 - val_loss: 0.1385\n",
            "Epoch 37/100\n",
            "40/40 [==============================] - 0s 2ms/step - loss: 0.0952 - val_loss: 0.1472\n",
            "Epoch 38/100\n",
            "40/40 [==============================] - 0s 2ms/step - loss: 0.0856 - val_loss: 0.1384\n",
            "Epoch 39/100\n",
            "40/40 [==============================] - 0s 2ms/step - loss: 0.0847 - val_loss: 0.1523\n",
            "Epoch 40/100\n",
            "40/40 [==============================] - 0s 2ms/step - loss: 0.0893 - val_loss: 0.1797\n",
            "Epoch 41/100\n",
            "40/40 [==============================] - 0s 2ms/step - loss: 0.0935 - val_loss: 0.1637\n",
            "Epoch 42/100\n",
            "40/40 [==============================] - 0s 2ms/step - loss: 0.0892 - val_loss: 0.1585\n",
            "Epoch 43/100\n",
            "40/40 [==============================] - 0s 2ms/step - loss: 0.0851 - val_loss: 0.1371\n",
            "Epoch 44/100\n",
            "40/40 [==============================] - 0s 2ms/step - loss: 0.0841 - val_loss: 0.1395\n",
            "Epoch 45/100\n",
            "40/40 [==============================] - 0s 2ms/step - loss: 0.0891 - val_loss: 0.1371\n",
            "Epoch 46/100\n",
            "40/40 [==============================] - 0s 2ms/step - loss: 0.0826 - val_loss: 0.1488\n",
            "Epoch 47/100\n",
            "40/40 [==============================] - 0s 2ms/step - loss: 0.0827 - val_loss: 0.1634\n",
            "Epoch 48/100\n",
            "40/40 [==============================] - 0s 2ms/step - loss: 0.0881 - val_loss: 0.1493\n",
            "Epoch 49/100\n",
            "40/40 [==============================] - 0s 2ms/step - loss: 0.0816 - val_loss: 0.1432\n",
            "Epoch 50/100\n",
            "40/40 [==============================] - 0s 2ms/step - loss: 0.0838 - val_loss: 0.1435\n",
            "Epoch 51/100\n",
            "40/40 [==============================] - 0s 2ms/step - loss: 0.0871 - val_loss: 0.1357\n",
            "Epoch 52/100\n",
            "40/40 [==============================] - 0s 2ms/step - loss: 0.0812 - val_loss: 0.1579\n",
            "Epoch 53/100\n",
            "40/40 [==============================] - 0s 2ms/step - loss: 0.0820 - val_loss: 0.1380\n",
            "Epoch 54/100\n",
            "40/40 [==============================] - 0s 2ms/step - loss: 0.0823 - val_loss: 0.1381\n",
            "Epoch 55/100\n",
            "40/40 [==============================] - 0s 2ms/step - loss: 0.0812 - val_loss: 0.1430\n",
            "Epoch 56/100\n",
            "40/40 [==============================] - 0s 2ms/step - loss: 0.0796 - val_loss: 0.1428\n",
            "Epoch 57/100\n",
            "40/40 [==============================] - 0s 2ms/step - loss: 0.0828 - val_loss: 0.1738\n",
            "Epoch 58/100\n",
            "40/40 [==============================] - 0s 2ms/step - loss: 0.0819 - val_loss: 0.1519\n",
            "Epoch 59/100\n",
            "40/40 [==============================] - 0s 2ms/step - loss: 0.0825 - val_loss: 0.1490\n",
            "Epoch 60/100\n",
            "40/40 [==============================] - 0s 2ms/step - loss: 0.0831 - val_loss: 0.1730\n",
            "Epoch 61/100\n",
            "40/40 [==============================] - 0s 2ms/step - loss: 0.0846 - val_loss: 0.1542\n",
            "Epoch 62/100\n",
            "40/40 [==============================] - 0s 2ms/step - loss: 0.0812 - val_loss: 0.1568\n",
            "Epoch 63/100\n",
            "40/40 [==============================] - 0s 2ms/step - loss: 0.0788 - val_loss: 0.1527\n",
            "Epoch 64/100\n",
            "40/40 [==============================] - 0s 2ms/step - loss: 0.0794 - val_loss: 0.1337\n",
            "Epoch 65/100\n",
            "40/40 [==============================] - 0s 2ms/step - loss: 0.0856 - val_loss: 0.1408\n",
            "Epoch 66/100\n",
            "40/40 [==============================] - 0s 2ms/step - loss: 0.0816 - val_loss: 0.1432\n",
            "Epoch 67/100\n",
            "40/40 [==============================] - 0s 2ms/step - loss: 0.0772 - val_loss: 0.1439\n",
            "Epoch 68/100\n",
            "40/40 [==============================] - 0s 2ms/step - loss: 0.0760 - val_loss: 0.1445\n",
            "Epoch 69/100\n",
            "40/40 [==============================] - 0s 2ms/step - loss: 0.0786 - val_loss: 0.1418\n",
            "Epoch 70/100\n",
            "40/40 [==============================] - 0s 2ms/step - loss: 0.0774 - val_loss: 0.1439\n",
            "Epoch 71/100\n",
            "40/40 [==============================] - 0s 2ms/step - loss: 0.0781 - val_loss: 0.1404\n",
            "Epoch 72/100\n",
            "40/40 [==============================] - 0s 2ms/step - loss: 0.0767 - val_loss: 0.1351\n",
            "Epoch 73/100\n",
            "40/40 [==============================] - 0s 2ms/step - loss: 0.0760 - val_loss: 0.1452\n",
            "Epoch 74/100\n",
            "40/40 [==============================] - 0s 2ms/step - loss: 0.0741 - val_loss: 0.1549\n",
            "Epoch 75/100\n",
            "40/40 [==============================] - 0s 2ms/step - loss: 0.0747 - val_loss: 0.1397\n",
            "Epoch 76/100\n",
            "40/40 [==============================] - 0s 2ms/step - loss: 0.0736 - val_loss: 0.1341\n",
            "Epoch 77/100\n",
            "40/40 [==============================] - 0s 2ms/step - loss: 0.0819 - val_loss: 0.1397\n",
            "Epoch 78/100\n",
            "40/40 [==============================] - 0s 2ms/step - loss: 0.0779 - val_loss: 0.1539\n",
            "Epoch 79/100\n",
            "40/40 [==============================] - 0s 2ms/step - loss: 0.0747 - val_loss: 0.1457\n",
            "Epoch 80/100\n",
            "40/40 [==============================] - 0s 2ms/step - loss: 0.0726 - val_loss: 0.1414\n",
            "Epoch 81/100\n",
            "40/40 [==============================] - 0s 2ms/step - loss: 0.0734 - val_loss: 0.1420\n",
            "Epoch 82/100\n",
            "40/40 [==============================] - 0s 2ms/step - loss: 0.0739 - val_loss: 0.1544\n",
            "Epoch 83/100\n",
            "40/40 [==============================] - 0s 2ms/step - loss: 0.0760 - val_loss: 0.1500\n",
            "Epoch 84/100\n",
            "40/40 [==============================] - 0s 2ms/step - loss: 0.0752 - val_loss: 0.1506\n",
            "Epoch 85/100\n",
            "40/40 [==============================] - 0s 2ms/step - loss: 0.0735 - val_loss: 0.1531\n",
            "Epoch 86/100\n",
            "40/40 [==============================] - 0s 2ms/step - loss: 0.0745 - val_loss: 0.1604\n",
            "Epoch 87/100\n",
            "40/40 [==============================] - 0s 2ms/step - loss: 0.0758 - val_loss: 0.1467\n",
            "Epoch 88/100\n",
            "40/40 [==============================] - 0s 2ms/step - loss: 0.0743 - val_loss: 0.1572\n",
            "Epoch 89/100\n",
            "40/40 [==============================] - 0s 2ms/step - loss: 0.0749 - val_loss: 0.1517\n",
            "Epoch 90/100\n",
            "40/40 [==============================] - 0s 2ms/step - loss: 0.0772 - val_loss: 0.1391\n",
            "Epoch 91/100\n",
            "40/40 [==============================] - 0s 2ms/step - loss: 0.0735 - val_loss: 0.1379\n",
            "Epoch 92/100\n",
            "40/40 [==============================] - 0s 2ms/step - loss: 0.0727 - val_loss: 0.1641\n",
            "Epoch 93/100\n",
            "40/40 [==============================] - 0s 2ms/step - loss: 0.0746 - val_loss: 0.1459\n",
            "Epoch 94/100\n",
            "40/40 [==============================] - 0s 2ms/step - loss: 0.0694 - val_loss: 0.1371\n",
            "Epoch 95/100\n",
            "40/40 [==============================] - 0s 2ms/step - loss: 0.0740 - val_loss: 0.1400\n",
            "Epoch 96/100\n",
            "40/40 [==============================] - 0s 2ms/step - loss: 0.0734 - val_loss: 0.1626\n",
            "Epoch 97/100\n",
            "40/40 [==============================] - 0s 2ms/step - loss: 0.0676 - val_loss: 0.1365\n",
            "Epoch 98/100\n",
            "40/40 [==============================] - 0s 2ms/step - loss: 0.0727 - val_loss: 0.1473\n",
            "Epoch 99/100\n",
            "40/40 [==============================] - 0s 2ms/step - loss: 0.0727 - val_loss: 0.1496\n",
            "Epoch 100/100\n",
            "40/40 [==============================] - 0s 1ms/step - loss: 0.0687 - val_loss: 0.1410\n"
          ],
          "name": "stdout"
        }
      ]
    },
    {
      "cell_type": "code",
      "metadata": {
        "id": "e-n6Vrsson45",
        "outputId": "58f4d742-b96a-4023-a071-bfa457351c58",
        "colab": {
          "base_uri": "https://localhost:8080/",
          "height": 87
        }
      },
      "source": [
        "predictions = wider_model.predict(feature_test)\n",
        "predictions = predictions.flatten()\n",
        "algo_evaluation(wider_model)"
      ],
      "execution_count": 213,
      "outputs": [
        {
          "output_type": "stream",
          "text": [
            "MSE (Mean Squared Error)         ->  0.14100268554679002\n",
            "MAE (Mean Absolute Error)        ->  0.2784591410071142\n",
            "r^2 score                        ->  0.8595019755341999\n",
            "RMSE (Root Mean Squared Error)   ->  0.37550324305761995\n"
          ],
          "name": "stdout"
        }
      ]
    },
    {
      "cell_type": "code",
      "metadata": {
        "id": "PihUUMElosdj",
        "outputId": "17046971-a754-46de-9026-cb9c14fec8d3",
        "colab": {
          "base_uri": "https://localhost:8080/",
          "height": 367
        }
      },
      "source": [
        "plot_loss(history_wider_model)"
      ],
      "execution_count": 214,
      "outputs": [
        {
          "output_type": "display_data",
          "data": {
            "image/png": "[encoded data removed]",
            "text/plain": [
              "<Figure size 432x288 with 1 Axes>"
            ]
          },
          "metadata": {
            "tags": [],
            "needs_background": "light"
          }
        },
        {
          "output_type": "stream",
          "text": [
            "Minimun Loss : 96    0.067639\n",
            "Name: loss, dtype: float64\n",
            "---------------------------------------\n",
            "Minimun Validation Loss : 63    0.133661\n",
            "Name: val_loss, dtype: float64\n"
          ],
          "name": "stdout"
        }
      ]
    },
    {
      "cell_type": "markdown",
      "metadata": {
        "id": "uFIIYlBmozTQ"
      },
      "source": [
        "#Kesimpulan : "
      ]
    },
    {
      "cell_type": "markdown",
      "metadata": {
        "id": "ULw0GHh3o0_P"
      },
      "source": [
        "##**Dari data diatas, dari pengujian 3 model yaitu Baseline Model, Deeper Model, dan Wilder Model dengan perbandingan 0.86 : 0.85 : 0.85 serta dengan MSE lebih kecil pula. Didapatkan Baseline Model yang terbaik sehingga dapat dijadikan bahan pengujian dengan menambahkan Optimizer.**"
      ]
    },
    {
      "cell_type": "markdown",
      "metadata": {
        "id": "hYnHVT_Bpu75"
      },
      "source": [
        "#Input Optimizer"
      ]
    },
    {
      "cell_type": "code",
      "metadata": {
        "id": "i61OBpdzqHBb"
      },
      "source": [
        "from tensorflow.keras.optimizers import SGD, RMSprop"
      ],
      "execution_count": 244,
      "outputs": []
    },
    {
      "cell_type": "markdown",
      "metadata": {
        "id": "K8Gl1VMTpxBL"
      },
      "source": [
        "##SGD"
      ]
    },
    {
      "cell_type": "code",
      "metadata": {
        "id": "CyZ-a9GUp7nR",
        "outputId": "03e2ef04-0b36-479d-ea9b-d79482048625",
        "colab": {
          "base_uri": "https://localhost:8080/",
          "height": 230
        }
      },
      "source": [
        "base_model_tuned_sgd = Sequential()\n",
        "base_model_tuned_sgd.add(Dense(200, input_dim=7, kernel_initializer='normal', activation='relu'))\n",
        "base_model_tuned_sgd.add(Dense(1, kernel_initializer='normal'))\n",
        "\n",
        "opt = SGD(lr=0.001, momentum=0.95)\n",
        "\n",
        "base_model_tuned_sgd.compile(loss='mean_squared_error', optimizer=opt)\n",
        "\n",
        "base_model_tuned_sgd.summary()"
      ],
      "execution_count": 239,
      "outputs": [
        {
          "output_type": "stream",
          "text": [
            "Model: \"sequential_20\"\n",
            "_________________________________________________________________\n",
            "Layer (type)                 Output Shape              Param #   \n",
            "=================================================================\n",
            "dense_44 (Dense)             (None, 200)               1600      \n",
            "_________________________________________________________________\n",
            "dense_45 (Dense)             (None, 1)                 201       \n",
            "=================================================================\n",
            "Total params: 1,801\n",
            "Trainable params: 1,801\n",
            "Non-trainable params: 0\n",
            "_________________________________________________________________\n"
          ],
          "name": "stdout"
        }
      ]
    },
    {
      "cell_type": "code",
      "metadata": {
        "id": "tj-qZMHJqMh6",
        "outputId": "777fc4c4-fe6e-400d-bcb5-42ba02606fb4",
        "colab": {
          "base_uri": "https://localhost:8080/",
          "height": 1000
        }
      },
      "source": [
        "history_tuned_sgd = base_model_tuned_sgd.fit(x=feature_train, y=label_train, validation_data=(feature_test, label_test), epochs=100, batch_size=8)"
      ],
      "execution_count": 240,
      "outputs": [
        {
          "output_type": "stream",
          "text": [
            "Epoch 1/100\n",
            "40/40 [==============================] - 0s 4ms/step - loss: 0.6838 - val_loss: 0.2921\n",
            "Epoch 2/100\n",
            "40/40 [==============================] - 0s 2ms/step - loss: 0.2292 - val_loss: 0.2504\n",
            "Epoch 3/100\n",
            "40/40 [==============================] - 0s 2ms/step - loss: 0.1724 - val_loss: 0.1861\n",
            "Epoch 4/100\n",
            "40/40 [==============================] - 0s 2ms/step - loss: 0.1509 - val_loss: 0.1797\n",
            "Epoch 5/100\n",
            "40/40 [==============================] - 0s 2ms/step - loss: 0.1400 - val_loss: 0.1719\n",
            "Epoch 6/100\n",
            "40/40 [==============================] - 0s 1ms/step - loss: 0.1306 - val_loss: 0.1661\n",
            "Epoch 7/100\n",
            "40/40 [==============================] - 0s 1ms/step - loss: 0.1261 - val_loss: 0.1622\n",
            "Epoch 8/100\n",
            "40/40 [==============================] - 0s 2ms/step - loss: 0.1228 - val_loss: 0.1630\n",
            "Epoch 9/100\n",
            "40/40 [==============================] - 0s 1ms/step - loss: 0.1207 - val_loss: 0.1613\n",
            "Epoch 10/100\n",
            "40/40 [==============================] - 0s 2ms/step - loss: 0.1170 - val_loss: 0.1557\n",
            "Epoch 11/100\n",
            "40/40 [==============================] - 0s 2ms/step - loss: 0.1179 - val_loss: 0.1515\n",
            "Epoch 12/100\n",
            "40/40 [==============================] - 0s 1ms/step - loss: 0.1125 - val_loss: 0.1563\n",
            "Epoch 13/100\n",
            "40/40 [==============================] - 0s 2ms/step - loss: 0.1113 - val_loss: 0.1520\n",
            "Epoch 14/100\n",
            "40/40 [==============================] - 0s 2ms/step - loss: 0.1100 - val_loss: 0.1596\n",
            "Epoch 15/100\n",
            "40/40 [==============================] - 0s 1ms/step - loss: 0.1120 - val_loss: 0.1556\n",
            "Epoch 16/100\n",
            "40/40 [==============================] - 0s 2ms/step - loss: 0.1088 - val_loss: 0.1535\n",
            "Epoch 17/100\n",
            "40/40 [==============================] - 0s 2ms/step - loss: 0.1060 - val_loss: 0.1522\n",
            "Epoch 18/100\n",
            "40/40 [==============================] - 0s 2ms/step - loss: 0.1061 - val_loss: 0.1548\n",
            "Epoch 19/100\n",
            "40/40 [==============================] - 0s 2ms/step - loss: 0.1064 - val_loss: 0.1507\n",
            "Epoch 20/100\n",
            "40/40 [==============================] - 0s 2ms/step - loss: 0.1033 - val_loss: 0.1557\n",
            "Epoch 21/100\n",
            "40/40 [==============================] - 0s 2ms/step - loss: 0.1035 - val_loss: 0.1545\n",
            "Epoch 22/100\n",
            "40/40 [==============================] - 0s 1ms/step - loss: 0.1036 - val_loss: 0.1538\n",
            "Epoch 23/100\n",
            "40/40 [==============================] - 0s 1ms/step - loss: 0.1030 - val_loss: 0.1566\n",
            "Epoch 24/100\n",
            "40/40 [==============================] - 0s 2ms/step - loss: 0.1069 - val_loss: 0.1442\n",
            "Epoch 25/100\n",
            "40/40 [==============================] - 0s 2ms/step - loss: 0.1041 - val_loss: 0.1567\n",
            "Epoch 26/100\n",
            "40/40 [==============================] - 0s 1ms/step - loss: 0.1012 - val_loss: 0.1444\n",
            "Epoch 27/100\n",
            "40/40 [==============================] - 0s 2ms/step - loss: 0.1014 - val_loss: 0.1509\n",
            "Epoch 28/100\n",
            "40/40 [==============================] - 0s 2ms/step - loss: 0.1000 - val_loss: 0.1484\n",
            "Epoch 29/100\n",
            "40/40 [==============================] - 0s 2ms/step - loss: 0.0993 - val_loss: 0.1515\n",
            "Epoch 30/100\n",
            "40/40 [==============================] - 0s 1ms/step - loss: 0.0994 - val_loss: 0.1490\n",
            "Epoch 31/100\n",
            "40/40 [==============================] - 0s 2ms/step - loss: 0.0984 - val_loss: 0.1536\n",
            "Epoch 32/100\n",
            "40/40 [==============================] - 0s 2ms/step - loss: 0.1003 - val_loss: 0.1431\n",
            "Epoch 33/100\n",
            "40/40 [==============================] - 0s 2ms/step - loss: 0.1014 - val_loss: 0.1561\n",
            "Epoch 34/100\n",
            "40/40 [==============================] - 0s 2ms/step - loss: 0.0986 - val_loss: 0.1508\n",
            "Epoch 35/100\n",
            "40/40 [==============================] - 0s 2ms/step - loss: 0.0968 - val_loss: 0.1460\n",
            "Epoch 36/100\n",
            "40/40 [==============================] - 0s 2ms/step - loss: 0.0973 - val_loss: 0.1467\n",
            "Epoch 37/100\n",
            "40/40 [==============================] - 0s 2ms/step - loss: 0.0972 - val_loss: 0.1468\n",
            "Epoch 38/100\n",
            "40/40 [==============================] - 0s 1ms/step - loss: 0.0961 - val_loss: 0.1462\n",
            "Epoch 39/100\n",
            "40/40 [==============================] - 0s 2ms/step - loss: 0.0969 - val_loss: 0.1506\n",
            "Epoch 40/100\n",
            "40/40 [==============================] - 0s 2ms/step - loss: 0.0958 - val_loss: 0.1514\n",
            "Epoch 41/100\n",
            "40/40 [==============================] - 0s 2ms/step - loss: 0.0958 - val_loss: 0.1525\n",
            "Epoch 42/100\n",
            "40/40 [==============================] - 0s 2ms/step - loss: 0.0951 - val_loss: 0.1508\n",
            "Epoch 43/100\n",
            "40/40 [==============================] - 0s 2ms/step - loss: 0.0959 - val_loss: 0.1437\n",
            "Epoch 44/100\n",
            "40/40 [==============================] - 0s 2ms/step - loss: 0.0962 - val_loss: 0.1579\n",
            "Epoch 45/100\n",
            "40/40 [==============================] - 0s 2ms/step - loss: 0.0965 - val_loss: 0.1531\n",
            "Epoch 46/100\n",
            "40/40 [==============================] - 0s 1ms/step - loss: 0.0942 - val_loss: 0.1471\n",
            "Epoch 47/100\n",
            "40/40 [==============================] - 0s 2ms/step - loss: 0.0939 - val_loss: 0.1519\n",
            "Epoch 48/100\n",
            "40/40 [==============================] - 0s 2ms/step - loss: 0.0938 - val_loss: 0.1507\n",
            "Epoch 49/100\n",
            "40/40 [==============================] - 0s 2ms/step - loss: 0.0965 - val_loss: 0.1400\n",
            "Epoch 50/100\n",
            "40/40 [==============================] - 0s 2ms/step - loss: 0.0979 - val_loss: 0.1576\n",
            "Epoch 51/100\n",
            "40/40 [==============================] - 0s 2ms/step - loss: 0.0914 - val_loss: 0.1430\n",
            "Epoch 52/100\n",
            "40/40 [==============================] - 0s 2ms/step - loss: 0.0918 - val_loss: 0.1486\n",
            "Epoch 53/100\n",
            "40/40 [==============================] - 0s 2ms/step - loss: 0.0916 - val_loss: 0.1448\n",
            "Epoch 54/100\n",
            "40/40 [==============================] - 0s 2ms/step - loss: 0.0917 - val_loss: 0.1461\n",
            "Epoch 55/100\n",
            "40/40 [==============================] - 0s 2ms/step - loss: 0.0937 - val_loss: 0.1408\n",
            "Epoch 56/100\n",
            "40/40 [==============================] - 0s 2ms/step - loss: 0.0941 - val_loss: 0.1534\n",
            "Epoch 57/100\n",
            "40/40 [==============================] - 0s 2ms/step - loss: 0.0911 - val_loss: 0.1443\n",
            "Epoch 58/100\n",
            "40/40 [==============================] - 0s 2ms/step - loss: 0.0911 - val_loss: 0.1512\n",
            "Epoch 59/100\n",
            "40/40 [==============================] - 0s 2ms/step - loss: 0.0921 - val_loss: 0.1511\n",
            "Epoch 60/100\n",
            "40/40 [==============================] - 0s 2ms/step - loss: 0.0900 - val_loss: 0.1517\n",
            "Epoch 61/100\n",
            "40/40 [==============================] - 0s 2ms/step - loss: 0.0893 - val_loss: 0.1432\n",
            "Epoch 62/100\n",
            "40/40 [==============================] - 0s 2ms/step - loss: 0.0900 - val_loss: 0.1511\n",
            "Epoch 63/100\n",
            "40/40 [==============================] - 0s 2ms/step - loss: 0.0897 - val_loss: 0.1431\n",
            "Epoch 64/100\n",
            "40/40 [==============================] - 0s 1ms/step - loss: 0.0931 - val_loss: 0.1572\n",
            "Epoch 65/100\n",
            "40/40 [==============================] - 0s 1ms/step - loss: 0.0919 - val_loss: 0.1397\n",
            "Epoch 66/100\n",
            "40/40 [==============================] - 0s 1ms/step - loss: 0.0902 - val_loss: 0.1487\n",
            "Epoch 67/100\n",
            "40/40 [==============================] - 0s 2ms/step - loss: 0.0896 - val_loss: 0.1464\n",
            "Epoch 68/100\n",
            "40/40 [==============================] - 0s 2ms/step - loss: 0.0904 - val_loss: 0.1409\n",
            "Epoch 69/100\n",
            "40/40 [==============================] - 0s 2ms/step - loss: 0.0918 - val_loss: 0.1493\n",
            "Epoch 70/100\n",
            "40/40 [==============================] - 0s 2ms/step - loss: 0.0895 - val_loss: 0.1488\n",
            "Epoch 71/100\n",
            "40/40 [==============================] - 0s 2ms/step - loss: 0.0899 - val_loss: 0.1426\n",
            "Epoch 72/100\n",
            "40/40 [==============================] - 0s 2ms/step - loss: 0.0901 - val_loss: 0.1478\n",
            "Epoch 73/100\n",
            "40/40 [==============================] - 0s 2ms/step - loss: 0.0887 - val_loss: 0.1499\n",
            "Epoch 74/100\n",
            "40/40 [==============================] - 0s 2ms/step - loss: 0.0892 - val_loss: 0.1450\n",
            "Epoch 75/100\n",
            "40/40 [==============================] - 0s 1ms/step - loss: 0.0876 - val_loss: 0.1434\n",
            "Epoch 76/100\n",
            "40/40 [==============================] - 0s 2ms/step - loss: 0.0869 - val_loss: 0.1456\n",
            "Epoch 77/100\n",
            "40/40 [==============================] - 0s 2ms/step - loss: 0.0868 - val_loss: 0.1482\n",
            "Epoch 78/100\n",
            "40/40 [==============================] - 0s 1ms/step - loss: 0.0870 - val_loss: 0.1446\n",
            "Epoch 79/100\n",
            "40/40 [==============================] - 0s 2ms/step - loss: 0.0867 - val_loss: 0.1457\n",
            "Epoch 80/100\n",
            "40/40 [==============================] - 0s 1ms/step - loss: 0.0881 - val_loss: 0.1542\n",
            "Epoch 81/100\n",
            "40/40 [==============================] - 0s 2ms/step - loss: 0.0869 - val_loss: 0.1380\n",
            "Epoch 82/100\n",
            "40/40 [==============================] - 0s 2ms/step - loss: 0.0881 - val_loss: 0.1423\n",
            "Epoch 83/100\n",
            "40/40 [==============================] - 0s 2ms/step - loss: 0.0864 - val_loss: 0.1476\n",
            "Epoch 84/100\n",
            "40/40 [==============================] - 0s 2ms/step - loss: 0.0882 - val_loss: 0.1423\n",
            "Epoch 85/100\n",
            "40/40 [==============================] - 0s 2ms/step - loss: 0.0856 - val_loss: 0.1449\n",
            "Epoch 86/100\n",
            "40/40 [==============================] - 0s 2ms/step - loss: 0.0879 - val_loss: 0.1392\n",
            "Epoch 87/100\n",
            "40/40 [==============================] - 0s 1ms/step - loss: 0.0845 - val_loss: 0.1548\n",
            "Epoch 88/100\n",
            "40/40 [==============================] - 0s 2ms/step - loss: 0.0859 - val_loss: 0.1395\n",
            "Epoch 89/100\n",
            "40/40 [==============================] - 0s 1ms/step - loss: 0.0846 - val_loss: 0.1472\n",
            "Epoch 90/100\n",
            "40/40 [==============================] - 0s 2ms/step - loss: 0.0854 - val_loss: 0.1389\n",
            "Epoch 91/100\n",
            "40/40 [==============================] - 0s 2ms/step - loss: 0.0863 - val_loss: 0.1552\n",
            "Epoch 92/100\n",
            "40/40 [==============================] - 0s 2ms/step - loss: 0.0858 - val_loss: 0.1396\n",
            "Epoch 93/100\n",
            "40/40 [==============================] - 0s 2ms/step - loss: 0.0845 - val_loss: 0.1542\n",
            "Epoch 94/100\n",
            "40/40 [==============================] - 0s 2ms/step - loss: 0.0849 - val_loss: 0.1443\n",
            "Epoch 95/100\n",
            "40/40 [==============================] - 0s 2ms/step - loss: 0.0848 - val_loss: 0.1429\n",
            "Epoch 96/100\n",
            "40/40 [==============================] - 0s 1ms/step - loss: 0.0886 - val_loss: 0.1496\n",
            "Epoch 97/100\n",
            "40/40 [==============================] - 0s 2ms/step - loss: 0.0842 - val_loss: 0.1457\n",
            "Epoch 98/100\n",
            "40/40 [==============================] - 0s 2ms/step - loss: 0.0846 - val_loss: 0.1440\n",
            "Epoch 99/100\n",
            "40/40 [==============================] - 0s 2ms/step - loss: 0.0839 - val_loss: 0.1424\n",
            "Epoch 100/100\n",
            "40/40 [==============================] - 0s 2ms/step - loss: 0.0842 - val_loss: 0.1467\n"
          ],
          "name": "stdout"
        }
      ]
    },
    {
      "cell_type": "code",
      "metadata": {
        "id": "wCiJ1ub8qS7n",
        "outputId": "28d1c80f-f7cd-427c-e23c-75d7f6b673cd",
        "colab": {
          "base_uri": "https://localhost:8080/",
          "height": 367
        }
      },
      "source": [
        "plot_loss(history_tuned_sgd)"
      ],
      "execution_count": 241,
      "outputs": [
        {
          "output_type": "display_data",
          "data": {
            "image/png": "[encoded data removed]",
            "text/plain": [
              "<Figure size 432x288 with 1 Axes>"
            ]
          },
          "metadata": {
            "tags": [],
            "needs_background": "light"
          }
        },
        {
          "output_type": "stream",
          "text": [
            "Minimun Loss : 98    0.083937\n",
            "Name: loss, dtype: float64\n",
            "---------------------------------------\n",
            "Minimun Validation Loss : 80    0.138022\n",
            "Name: val_loss, dtype: float64\n"
          ],
          "name": "stdout"
        }
      ]
    },
    {
      "cell_type": "markdown",
      "metadata": {
        "id": "a_Mb9jrzqhn9"
      },
      "source": [
        "##RMSprop"
      ]
    },
    {
      "cell_type": "code",
      "metadata": {
        "id": "cBr153mOqkV7",
        "outputId": "19eeb0ac-63ab-4dd0-9cb4-7448c1003c6d",
        "colab": {
          "base_uri": "https://localhost:8080/",
          "height": 230
        }
      },
      "source": [
        "base_model_tuned_rmsprop = Sequential()\n",
        "base_model_tuned_rmsprop.add(Dense(200, input_dim=7, kernel_initializer='normal', activation='relu'))\n",
        "base_model_tuned_rmsprop.add(Dense(1, kernel_initializer='normal'))\n",
        "\n",
        "opt = RMSprop(lr=0.001)\n",
        "\n",
        "base_model_tuned_rmsprop.compile(loss='mean_squared_error', optimizer=opt)\n",
        "\n",
        "base_model_tuned_rmsprop.summary()"
      ],
      "execution_count": 249,
      "outputs": [
        {
          "output_type": "stream",
          "text": [
            "Model: \"sequential_24\"\n",
            "_________________________________________________________________\n",
            "Layer (type)                 Output Shape              Param #   \n",
            "=================================================================\n",
            "dense_52 (Dense)             (None, 200)               1600      \n",
            "_________________________________________________________________\n",
            "dense_53 (Dense)             (None, 1)                 201       \n",
            "=================================================================\n",
            "Total params: 1,801\n",
            "Trainable params: 1,801\n",
            "Non-trainable params: 0\n",
            "_________________________________________________________________\n"
          ],
          "name": "stdout"
        }
      ]
    },
    {
      "cell_type": "code",
      "metadata": {
        "id": "0H0IInnWql9t",
        "outputId": "d2e61176-a3ac-407b-eedb-28b21997c17e",
        "colab": {
          "base_uri": "https://localhost:8080/",
          "height": 1000
        }
      },
      "source": [
        "history_tuned_rmsprop = base_model_tuned_rmsprop.fit(x=feature_train, y=label_train, validation_data=(feature_test, label_test), epochs=100, batch_size=8)"
      ],
      "execution_count": 250,
      "outputs": [
        {
          "output_type": "stream",
          "text": [
            "Epoch 1/100\n",
            "40/40 [==============================] - 0s 4ms/step - loss: 0.3582 - val_loss: 0.2319\n",
            "Epoch 2/100\n",
            "40/40 [==============================] - 0s 2ms/step - loss: 0.1735 - val_loss: 0.1882\n",
            "Epoch 3/100\n",
            "40/40 [==============================] - 0s 2ms/step - loss: 0.1411 - val_loss: 0.1644\n",
            "Epoch 4/100\n",
            "40/40 [==============================] - 0s 2ms/step - loss: 0.1281 - val_loss: 0.1600\n",
            "Epoch 5/100\n",
            "40/40 [==============================] - 0s 2ms/step - loss: 0.1227 - val_loss: 0.1588\n",
            "Epoch 6/100\n",
            "40/40 [==============================] - 0s 2ms/step - loss: 0.1183 - val_loss: 0.1534\n",
            "Epoch 7/100\n",
            "40/40 [==============================] - 0s 2ms/step - loss: 0.1131 - val_loss: 0.1485\n",
            "Epoch 8/100\n",
            "40/40 [==============================] - 0s 2ms/step - loss: 0.1126 - val_loss: 0.1527\n",
            "Epoch 9/100\n",
            "40/40 [==============================] - 0s 2ms/step - loss: 0.1067 - val_loss: 0.1762\n",
            "Epoch 10/100\n",
            "40/40 [==============================] - 0s 2ms/step - loss: 0.1062 - val_loss: 0.1447\n",
            "Epoch 11/100\n",
            "40/40 [==============================] - 0s 2ms/step - loss: 0.1046 - val_loss: 0.1473\n",
            "Epoch 12/100\n",
            "40/40 [==============================] - 0s 2ms/step - loss: 0.1034 - val_loss: 0.1470\n",
            "Epoch 13/100\n",
            "40/40 [==============================] - 0s 1ms/step - loss: 0.1037 - val_loss: 0.1453\n",
            "Epoch 14/100\n",
            "40/40 [==============================] - 0s 1ms/step - loss: 0.1032 - val_loss: 0.1510\n",
            "Epoch 15/100\n",
            "40/40 [==============================] - 0s 2ms/step - loss: 0.1001 - val_loss: 0.1609\n",
            "Epoch 16/100\n",
            "40/40 [==============================] - 0s 2ms/step - loss: 0.0988 - val_loss: 0.1502\n",
            "Epoch 17/100\n",
            "40/40 [==============================] - 0s 2ms/step - loss: 0.0988 - val_loss: 0.1538\n",
            "Epoch 18/100\n",
            "40/40 [==============================] - 0s 2ms/step - loss: 0.0990 - val_loss: 0.1447\n",
            "Epoch 19/100\n",
            "40/40 [==============================] - 0s 2ms/step - loss: 0.0965 - val_loss: 0.1453\n",
            "Epoch 20/100\n",
            "40/40 [==============================] - 0s 2ms/step - loss: 0.0978 - val_loss: 0.1449\n",
            "Epoch 21/100\n",
            "40/40 [==============================] - 0s 2ms/step - loss: 0.0950 - val_loss: 0.1564\n",
            "Epoch 22/100\n",
            "40/40 [==============================] - 0s 2ms/step - loss: 0.0978 - val_loss: 0.1601\n",
            "Epoch 23/100\n",
            "40/40 [==============================] - 0s 2ms/step - loss: 0.0948 - val_loss: 0.1567\n",
            "Epoch 24/100\n",
            "40/40 [==============================] - 0s 2ms/step - loss: 0.0913 - val_loss: 0.1534\n",
            "Epoch 25/100\n",
            "40/40 [==============================] - 0s 2ms/step - loss: 0.0938 - val_loss: 0.1657\n",
            "Epoch 26/100\n",
            "40/40 [==============================] - 0s 2ms/step - loss: 0.0926 - val_loss: 0.1534\n",
            "Epoch 27/100\n",
            "40/40 [==============================] - 0s 2ms/step - loss: 0.0913 - val_loss: 0.1644\n",
            "Epoch 28/100\n",
            "40/40 [==============================] - 0s 1ms/step - loss: 0.0924 - val_loss: 0.1383\n",
            "Epoch 29/100\n",
            "40/40 [==============================] - 0s 2ms/step - loss: 0.0935 - val_loss: 0.1513\n",
            "Epoch 30/100\n",
            "40/40 [==============================] - 0s 1ms/step - loss: 0.0916 - val_loss: 0.1465\n",
            "Epoch 31/100\n",
            "40/40 [==============================] - 0s 2ms/step - loss: 0.0929 - val_loss: 0.1652\n",
            "Epoch 32/100\n",
            "40/40 [==============================] - 0s 2ms/step - loss: 0.0919 - val_loss: 0.1555\n",
            "Epoch 33/100\n",
            "40/40 [==============================] - 0s 2ms/step - loss: 0.0912 - val_loss: 0.1483\n",
            "Epoch 34/100\n",
            "40/40 [==============================] - 0s 2ms/step - loss: 0.0897 - val_loss: 0.1491\n",
            "Epoch 35/100\n",
            "40/40 [==============================] - 0s 2ms/step - loss: 0.0902 - val_loss: 0.1681\n",
            "Epoch 36/100\n",
            "40/40 [==============================] - 0s 2ms/step - loss: 0.0898 - val_loss: 0.1850\n",
            "Epoch 37/100\n",
            "40/40 [==============================] - 0s 2ms/step - loss: 0.0888 - val_loss: 0.1455\n",
            "Epoch 38/100\n",
            "40/40 [==============================] - 0s 2ms/step - loss: 0.0901 - val_loss: 0.1480\n",
            "Epoch 39/100\n",
            "40/40 [==============================] - 0s 2ms/step - loss: 0.0868 - val_loss: 0.1477\n",
            "Epoch 40/100\n",
            "40/40 [==============================] - 0s 2ms/step - loss: 0.0868 - val_loss: 0.1432\n",
            "Epoch 41/100\n",
            "40/40 [==============================] - 0s 1ms/step - loss: 0.0855 - val_loss: 0.1375\n",
            "Epoch 42/100\n",
            "40/40 [==============================] - 0s 2ms/step - loss: 0.0877 - val_loss: 0.1694\n",
            "Epoch 43/100\n",
            "40/40 [==============================] - 0s 2ms/step - loss: 0.0822 - val_loss: 0.1468\n",
            "Epoch 44/100\n",
            "40/40 [==============================] - 0s 2ms/step - loss: 0.0879 - val_loss: 0.1464\n",
            "Epoch 45/100\n",
            "40/40 [==============================] - 0s 2ms/step - loss: 0.0859 - val_loss: 0.1379\n",
            "Epoch 46/100\n",
            "40/40 [==============================] - 0s 1ms/step - loss: 0.0852 - val_loss: 0.1355\n",
            "Epoch 47/100\n",
            "40/40 [==============================] - 0s 2ms/step - loss: 0.0860 - val_loss: 0.1369\n",
            "Epoch 48/100\n",
            "40/40 [==============================] - 0s 2ms/step - loss: 0.0858 - val_loss: 0.1456\n",
            "Epoch 49/100\n",
            "40/40 [==============================] - 0s 2ms/step - loss: 0.0844 - val_loss: 0.1425\n",
            "Epoch 50/100\n",
            "40/40 [==============================] - 0s 2ms/step - loss: 0.0852 - val_loss: 0.1487\n",
            "Epoch 51/100\n",
            "40/40 [==============================] - 0s 2ms/step - loss: 0.0848 - val_loss: 0.1621\n",
            "Epoch 52/100\n",
            "40/40 [==============================] - 0s 2ms/step - loss: 0.0854 - val_loss: 0.1466\n",
            "Epoch 53/100\n",
            "40/40 [==============================] - 0s 2ms/step - loss: 0.0847 - val_loss: 0.1434\n",
            "Epoch 54/100\n",
            "40/40 [==============================] - 0s 2ms/step - loss: 0.0826 - val_loss: 0.1354\n",
            "Epoch 55/100\n",
            "40/40 [==============================] - 0s 2ms/step - loss: 0.0845 - val_loss: 0.1468\n",
            "Epoch 56/100\n",
            "40/40 [==============================] - 0s 1ms/step - loss: 0.0847 - val_loss: 0.1420\n",
            "Epoch 57/100\n",
            "40/40 [==============================] - 0s 1ms/step - loss: 0.0815 - val_loss: 0.1333\n",
            "Epoch 58/100\n",
            "40/40 [==============================] - 0s 2ms/step - loss: 0.0824 - val_loss: 0.1460\n",
            "Epoch 59/100\n",
            "40/40 [==============================] - 0s 2ms/step - loss: 0.0803 - val_loss: 0.1460\n",
            "Epoch 60/100\n",
            "40/40 [==============================] - 0s 2ms/step - loss: 0.0812 - val_loss: 0.1340\n",
            "Epoch 61/100\n",
            "40/40 [==============================] - 0s 2ms/step - loss: 0.0830 - val_loss: 0.1521\n",
            "Epoch 62/100\n",
            "40/40 [==============================] - 0s 2ms/step - loss: 0.0814 - val_loss: 0.1479\n",
            "Epoch 63/100\n",
            "40/40 [==============================] - 0s 2ms/step - loss: 0.0840 - val_loss: 0.1448\n",
            "Epoch 64/100\n",
            "40/40 [==============================] - 0s 1ms/step - loss: 0.0836 - val_loss: 0.1432\n",
            "Epoch 65/100\n",
            "40/40 [==============================] - 0s 2ms/step - loss: 0.0807 - val_loss: 0.1464\n",
            "Epoch 66/100\n",
            "40/40 [==============================] - 0s 2ms/step - loss: 0.0797 - val_loss: 0.1400\n",
            "Epoch 67/100\n",
            "40/40 [==============================] - 0s 2ms/step - loss: 0.0817 - val_loss: 0.1447\n",
            "Epoch 68/100\n",
            "40/40 [==============================] - 0s 2ms/step - loss: 0.0803 - val_loss: 0.1958\n",
            "Epoch 69/100\n",
            "40/40 [==============================] - 0s 1ms/step - loss: 0.0821 - val_loss: 0.1726\n",
            "Epoch 70/100\n",
            "40/40 [==============================] - 0s 2ms/step - loss: 0.0807 - val_loss: 0.1396\n",
            "Epoch 71/100\n",
            "40/40 [==============================] - 0s 2ms/step - loss: 0.0813 - val_loss: 0.1556\n",
            "Epoch 72/100\n",
            "40/40 [==============================] - 0s 2ms/step - loss: 0.0777 - val_loss: 0.1566\n",
            "Epoch 73/100\n",
            "40/40 [==============================] - 0s 2ms/step - loss: 0.0809 - val_loss: 0.1351\n",
            "Epoch 74/100\n",
            "40/40 [==============================] - 0s 2ms/step - loss: 0.0781 - val_loss: 0.1397\n",
            "Epoch 75/100\n",
            "40/40 [==============================] - 0s 2ms/step - loss: 0.0787 - val_loss: 0.1448\n",
            "Epoch 76/100\n",
            "40/40 [==============================] - 0s 2ms/step - loss: 0.0804 - val_loss: 0.1451\n",
            "Epoch 77/100\n",
            "40/40 [==============================] - 0s 2ms/step - loss: 0.0779 - val_loss: 0.1351\n",
            "Epoch 78/100\n",
            "40/40 [==============================] - 0s 2ms/step - loss: 0.0755 - val_loss: 0.1919\n",
            "Epoch 79/100\n",
            "40/40 [==============================] - 0s 2ms/step - loss: 0.0792 - val_loss: 0.1585\n",
            "Epoch 80/100\n",
            "40/40 [==============================] - 0s 2ms/step - loss: 0.0776 - val_loss: 0.1354\n",
            "Epoch 81/100\n",
            "40/40 [==============================] - 0s 2ms/step - loss: 0.0808 - val_loss: 0.1383\n",
            "Epoch 82/100\n",
            "40/40 [==============================] - 0s 1ms/step - loss: 0.0756 - val_loss: 0.1817\n",
            "Epoch 83/100\n",
            "40/40 [==============================] - 0s 2ms/step - loss: 0.0753 - val_loss: 0.1768\n",
            "Epoch 84/100\n",
            "40/40 [==============================] - 0s 2ms/step - loss: 0.0780 - val_loss: 0.1342\n",
            "Epoch 85/100\n",
            "40/40 [==============================] - 0s 2ms/step - loss: 0.0780 - val_loss: 0.1739\n",
            "Epoch 86/100\n",
            "40/40 [==============================] - 0s 2ms/step - loss: 0.0791 - val_loss: 0.1391\n",
            "Epoch 87/100\n",
            "40/40 [==============================] - 0s 1ms/step - loss: 0.0790 - val_loss: 0.1460\n",
            "Epoch 88/100\n",
            "40/40 [==============================] - 0s 2ms/step - loss: 0.0748 - val_loss: 0.1468\n",
            "Epoch 89/100\n",
            "40/40 [==============================] - 0s 2ms/step - loss: 0.0764 - val_loss: 0.1462\n",
            "Epoch 90/100\n",
            "40/40 [==============================] - 0s 2ms/step - loss: 0.0741 - val_loss: 0.1349\n",
            "Epoch 91/100\n",
            "40/40 [==============================] - 0s 2ms/step - loss: 0.0757 - val_loss: 0.1392\n",
            "Epoch 92/100\n",
            "40/40 [==============================] - 0s 2ms/step - loss: 0.0713 - val_loss: 0.1862\n",
            "Epoch 93/100\n",
            "40/40 [==============================] - 0s 2ms/step - loss: 0.0735 - val_loss: 0.1329\n",
            "Epoch 94/100\n",
            "40/40 [==============================] - 0s 2ms/step - loss: 0.0762 - val_loss: 0.1389\n",
            "Epoch 95/100\n",
            "40/40 [==============================] - 0s 2ms/step - loss: 0.0745 - val_loss: 0.1341\n",
            "Epoch 96/100\n",
            "40/40 [==============================] - 0s 2ms/step - loss: 0.0761 - val_loss: 0.1615\n",
            "Epoch 97/100\n",
            "40/40 [==============================] - 0s 2ms/step - loss: 0.0737 - val_loss: 0.1670\n",
            "Epoch 98/100\n",
            "40/40 [==============================] - 0s 2ms/step - loss: 0.0738 - val_loss: 0.1381\n",
            "Epoch 99/100\n",
            "40/40 [==============================] - 0s 2ms/step - loss: 0.0755 - val_loss: 0.1579\n",
            "Epoch 100/100\n",
            "40/40 [==============================] - 0s 1ms/step - loss: 0.0728 - val_loss: 0.1473\n"
          ],
          "name": "stdout"
        }
      ]
    },
    {
      "cell_type": "code",
      "metadata": {
        "id": "-vXR4MQGrPRh",
        "outputId": "b4339088-b2a8-4bb8-bf89-13aa47d62a00",
        "colab": {
          "base_uri": "https://localhost:8080/",
          "height": 367
        }
      },
      "source": [
        "plot_loss(history_tuned_rmsprop)"
      ],
      "execution_count": 251,
      "outputs": [
        {
          "output_type": "display_data",
          "data": {
            "image/png": "[encoded data removed]",
            "text/plain": [
              "<Figure size 432x288 with 1 Axes>"
            ]
          },
          "metadata": {
            "tags": [],
            "needs_background": "light"
          }
        },
        {
          "output_type": "stream",
          "text": [
            "Minimun Loss : 91    0.071347\n",
            "Name: loss, dtype: float64\n",
            "---------------------------------------\n",
            "Minimun Validation Loss : 92    0.132926\n",
            "Name: val_loss, dtype: float64\n"
          ],
          "name": "stdout"
        }
      ]
    },
    {
      "cell_type": "markdown",
      "metadata": {
        "id": "H79WS1i2rb0R"
      },
      "source": [
        "#Kesimpulan :"
      ]
    },
    {
      "cell_type": "markdown",
      "metadata": {
        "id": "o23Qq20JrdUp"
      },
      "source": [
        "##Pada pengujian diatas, dimana Baseline Model diuji dengan ditambahkan optimizer dan didapatkan Adam yang terbaik pada pengujian ini dibandingkan RMSprop dan SGD. yang mana MSE didapatkan 0.12 dan paling kecil dibandingkan yang lain."
      ]
    }
  ]
}