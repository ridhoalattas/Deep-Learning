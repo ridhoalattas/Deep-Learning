{
  "nbformat": 4,
  "nbformat_minor": 0,
  "metadata": {
    "colab": {
      "name": "Bottle.ipynb",
      "provenance": []
    },
    "kernelspec": {
      "name": "python3",
      "display_name": "Python 3"
    },
    "accelerator": "TPU"
  },
  "cells": [
    {
      "cell_type": "code",
      "metadata": {
        "id": "8wB-NVXOu3bE"
      },
      "source": [
        "import pandas as pd\n",
        "import numpy as np\n",
        "import matplotlib.pyplot as plt\n",
        "import os\n",
        "import seaborn as sb"
      ],
      "execution_count": 1,
      "outputs": []
    },
    {
      "cell_type": "markdown",
      "metadata": {
        "id": "8FB-7zFmvJyG"
      },
      "source": [
        "#Function"
      ]
    },
    {
      "cell_type": "code",
      "metadata": {
        "id": "42xIfzibvJTi"
      },
      "source": [
        "def plot_loss(history):\n",
        "  history_dataframe = pd.DataFrame(history.history)\n",
        "\n",
        "  min_loss_index = history_dataframe[history_dataframe['loss']==min(history_dataframe['loss'])].index.values\n",
        "  min_loss = history_dataframe.loc[min_loss_index]['loss']\n",
        "  min_val_loss_index = history_dataframe[history_dataframe['val_loss']==min(history_dataframe['val_loss'])].index.values\n",
        "  min_val_loss = history_dataframe.loc[min_val_loss_index]['val_loss']\n",
        "\n",
        "  plt.plot(history.history['loss'], label='loss')\n",
        "  plt.plot(history.history['val_loss'], label='val_loss')\n",
        "  plt.plot(min_loss_index, min_loss, 'o', c='k', ms=4, label='min loss')\n",
        "  plt.plot(min_val_loss_index, min_val_loss, 'o', c='k', ms=4, label='min val_loss')\n",
        "  plt.xlabel('Epoch')\n",
        "  plt.ylabel('Loss (MSE)')\n",
        "  plt.legend()\n",
        "  plt.grid(True)\n",
        "  plt.show()\n",
        "\n",
        "  print(\"Minimun Loss :\", min_loss)\n",
        "  print(\"---------------------------------------\")\n",
        "  print(\"Minimun Validation Loss :\", min_val_loss)"
      ],
      "execution_count": 2,
      "outputs": []
    },
    {
      "cell_type": "code",
      "metadata": {
        "id": "eJoyVzlQvLTa"
      },
      "source": [
        "def algo_evaluation(model):\n",
        "  predictions = model.predict(feature_test)\n",
        "  predictions = predictions.flatten()\n",
        "\n",
        "  print(\"MSE (Mean Squared Error)         -> \", mean_squared_error(label_test, predictions))\n",
        "  print(\"MAE (Mean Absolute Error)        -> \", mean_absolute_error(label_test, predictions))\n",
        "  print(\"r^2 score                        -> \", r2_score(label_test, predictions))\n",
        "  print('RMSE (Root Mean Squared Error)   -> ', np.sqrt(mean_squared_error(label_test, predictions)))"
      ],
      "execution_count": 3,
      "outputs": []
    },
    {
      "cell_type": "code",
      "metadata": {
        "id": "CLqWAEbKvNDA"
      },
      "source": [
        "def reset_random_seeds():\n",
        "   os.environ['PYTHONHASHSEED']=str(1)\n",
        "   tf.random.set_seed(1)\n",
        "   np.random.seed(1)\n",
        "   random.seed(1)"
      ],
      "execution_count": 4,
      "outputs": []
    },
    {
      "cell_type": "markdown",
      "metadata": {
        "id": "nQJ8TTPuvTJW"
      },
      "source": [
        "#Data Cleaning\n"
      ]
    },
    {
      "cell_type": "code",
      "metadata": {
        "id": "kTvRzKzkvX0U"
      },
      "source": [
        "dataset = pd.read_csv('/content/drive/My Drive/Colab_Test/Dataset/6. Deep Learning/bottle.csv')"
      ],
      "execution_count": 5,
      "outputs": []
    },
    {
      "cell_type": "code",
      "metadata": {
        "id": "abK-dSOtva4_",
        "outputId": "0b0d72da-9b9f-4ad3-cf96-7fd6da634f3a",
        "colab": {
          "base_uri": "https://localhost:8080/",
          "height": 0
        }
      },
      "source": [
        "dataset.info()"
      ],
      "execution_count": 6,
      "outputs": [
        {
          "output_type": "stream",
          "text": [
            "<class 'pandas.core.frame.DataFrame'>\n",
            "RangeIndex: 864863 entries, 0 to 864862\n",
            "Data columns (total 4 columns):\n",
            " #   Column      Non-Null Count   Dtype  \n",
            "---  ------      --------------   -----  \n",
            " 0   Unnamed: 0  864863 non-null  int64  \n",
            " 1   Depthm      864863 non-null  int64  \n",
            " 2   T_degC      853900 non-null  float64\n",
            " 3   Salnty      817509 non-null  float64\n",
            "dtypes: float64(2), int64(2)\n",
            "memory usage: 26.4 MB\n"
          ],
          "name": "stdout"
        }
      ]
    },
    {
      "cell_type": "code",
      "metadata": {
        "id": "R2TVz6_9vcSm"
      },
      "source": [
        "dataset.drop(['Unnamed: 0'], axis=1, inplace=True)"
      ],
      "execution_count": 7,
      "outputs": []
    },
    {
      "cell_type": "code",
      "metadata": {
        "id": "b8eM22j4vyKI",
        "outputId": "452bc4ef-b886-4089-af6d-d60f7f881d2d",
        "colab": {
          "base_uri": "https://localhost:8080/",
          "height": 0
        }
      },
      "source": [
        "dataset.head()"
      ],
      "execution_count": 8,
      "outputs": [
        {
          "output_type": "execute_result",
          "data": {
            "text/html": [
              "<div>\n",
              "<style scoped>\n",
              "    .dataframe tbody tr th:only-of-type {\n",
              "        vertical-align: middle;\n",
              "    }\n",
              "\n",
              "    .dataframe tbody tr th {\n",
              "        vertical-align: top;\n",
              "    }\n",
              "\n",
              "    .dataframe thead th {\n",
              "        text-align: right;\n",
              "    }\n",
              "</style>\n",
              "<table border=\"1\" class=\"dataframe\">\n",
              "  <thead>\n",
              "    <tr style=\"text-align: right;\">\n",
              "      <th></th>\n",
              "      <th>Depthm</th>\n",
              "      <th>T_degC</th>\n",
              "      <th>Salnty</th>\n",
              "    </tr>\n",
              "  </thead>\n",
              "  <tbody>\n",
              "    <tr>\n",
              "      <th>0</th>\n",
              "      <td>0</td>\n",
              "      <td>10.50</td>\n",
              "      <td>33.440</td>\n",
              "    </tr>\n",
              "    <tr>\n",
              "      <th>1</th>\n",
              "      <td>8</td>\n",
              "      <td>10.46</td>\n",
              "      <td>33.440</td>\n",
              "    </tr>\n",
              "    <tr>\n",
              "      <th>2</th>\n",
              "      <td>10</td>\n",
              "      <td>10.46</td>\n",
              "      <td>33.437</td>\n",
              "    </tr>\n",
              "    <tr>\n",
              "      <th>3</th>\n",
              "      <td>19</td>\n",
              "      <td>10.45</td>\n",
              "      <td>33.420</td>\n",
              "    </tr>\n",
              "    <tr>\n",
              "      <th>4</th>\n",
              "      <td>20</td>\n",
              "      <td>10.45</td>\n",
              "      <td>33.421</td>\n",
              "    </tr>\n",
              "  </tbody>\n",
              "</table>\n",
              "</div>"
            ],
            "text/plain": [
              "   Depthm  T_degC  Salnty\n",
              "0       0   10.50  33.440\n",
              "1       8   10.46  33.440\n",
              "2      10   10.46  33.437\n",
              "3      19   10.45  33.420\n",
              "4      20   10.45  33.421"
            ]
          },
          "metadata": {
            "tags": []
          },
          "execution_count": 8
        }
      ]
    },
    {
      "cell_type": "code",
      "metadata": {
        "id": "1gQtUdWWv5C2",
        "outputId": "9387d24a-44a8-453e-8a35-557694ebc70a",
        "colab": {
          "base_uri": "https://localhost:8080/",
          "height": 0
        }
      },
      "source": [
        "dataset.isnull().sum()"
      ],
      "execution_count": 9,
      "outputs": [
        {
          "output_type": "execute_result",
          "data": {
            "text/plain": [
              "Depthm        0\n",
              "T_degC    10963\n",
              "Salnty    47354\n",
              "dtype: int64"
            ]
          },
          "metadata": {
            "tags": []
          },
          "execution_count": 9
        }
      ]
    },
    {
      "cell_type": "code",
      "metadata": {
        "id": "f_BlLgF_v7o3"
      },
      "source": [
        "dataset.replace(\"?\", np.nan, inplace=True)"
      ],
      "execution_count": 10,
      "outputs": []
    },
    {
      "cell_type": "code",
      "metadata": {
        "id": "BjQq3HkGv_TC"
      },
      "source": [
        "avg_deg = dataset['T_degC'].astype(float).mean(axis=0)\n",
        "avg_salnty = dataset['Salnty'].astype(float).mean(axis=0)"
      ],
      "execution_count": 11,
      "outputs": []
    },
    {
      "cell_type": "code",
      "metadata": {
        "id": "hbZ_dSGBwQ3o"
      },
      "source": [
        "dataset['T_degC'].replace(np.nan, avg_deg, inplace=True)\n",
        "dataset['Salnty'].replace(np.nan, avg_salnty, inplace=True)"
      ],
      "execution_count": 12,
      "outputs": []
    },
    {
      "cell_type": "code",
      "metadata": {
        "id": "A55jF2zcwWKq",
        "outputId": "ea4367f3-dbb9-48dc-886d-94168ed020d4",
        "colab": {
          "base_uri": "https://localhost:8080/",
          "height": 0
        }
      },
      "source": [
        "dataset.isnull().sum()"
      ],
      "execution_count": 13,
      "outputs": [
        {
          "output_type": "execute_result",
          "data": {
            "text/plain": [
              "Depthm    0\n",
              "T_degC    0\n",
              "Salnty    0\n",
              "dtype: int64"
            ]
          },
          "metadata": {
            "tags": []
          },
          "execution_count": 13
        }
      ]
    },
    {
      "cell_type": "code",
      "metadata": {
        "id": "H87E1AvkwXR6"
      },
      "source": [
        "dataset[['Depthm']] = dataset[['Depthm']].astype(float)"
      ],
      "execution_count": 14,
      "outputs": []
    },
    {
      "cell_type": "code",
      "metadata": {
        "id": "1gmpPACiwd9P",
        "outputId": "cb529c97-2c2e-4676-a6b6-8ab4ed9d39d0",
        "colab": {
          "base_uri": "https://localhost:8080/",
          "height": 0
        }
      },
      "source": [
        "dataset.head()"
      ],
      "execution_count": 15,
      "outputs": [
        {
          "output_type": "execute_result",
          "data": {
            "text/html": [
              "<div>\n",
              "<style scoped>\n",
              "    .dataframe tbody tr th:only-of-type {\n",
              "        vertical-align: middle;\n",
              "    }\n",
              "\n",
              "    .dataframe tbody tr th {\n",
              "        vertical-align: top;\n",
              "    }\n",
              "\n",
              "    .dataframe thead th {\n",
              "        text-align: right;\n",
              "    }\n",
              "</style>\n",
              "<table border=\"1\" class=\"dataframe\">\n",
              "  <thead>\n",
              "    <tr style=\"text-align: right;\">\n",
              "      <th></th>\n",
              "      <th>Depthm</th>\n",
              "      <th>T_degC</th>\n",
              "      <th>Salnty</th>\n",
              "    </tr>\n",
              "  </thead>\n",
              "  <tbody>\n",
              "    <tr>\n",
              "      <th>0</th>\n",
              "      <td>0.0</td>\n",
              "      <td>10.50</td>\n",
              "      <td>33.440</td>\n",
              "    </tr>\n",
              "    <tr>\n",
              "      <th>1</th>\n",
              "      <td>8.0</td>\n",
              "      <td>10.46</td>\n",
              "      <td>33.440</td>\n",
              "    </tr>\n",
              "    <tr>\n",
              "      <th>2</th>\n",
              "      <td>10.0</td>\n",
              "      <td>10.46</td>\n",
              "      <td>33.437</td>\n",
              "    </tr>\n",
              "    <tr>\n",
              "      <th>3</th>\n",
              "      <td>19.0</td>\n",
              "      <td>10.45</td>\n",
              "      <td>33.420</td>\n",
              "    </tr>\n",
              "    <tr>\n",
              "      <th>4</th>\n",
              "      <td>20.0</td>\n",
              "      <td>10.45</td>\n",
              "      <td>33.421</td>\n",
              "    </tr>\n",
              "  </tbody>\n",
              "</table>\n",
              "</div>"
            ],
            "text/plain": [
              "   Depthm  T_degC  Salnty\n",
              "0     0.0   10.50  33.440\n",
              "1     8.0   10.46  33.440\n",
              "2    10.0   10.46  33.437\n",
              "3    19.0   10.45  33.420\n",
              "4    20.0   10.45  33.421"
            ]
          },
          "metadata": {
            "tags": []
          },
          "execution_count": 15
        }
      ]
    },
    {
      "cell_type": "markdown",
      "metadata": {
        "id": "chtbNX_ywhtT"
      },
      "source": [
        "#EDA"
      ]
    },
    {
      "cell_type": "code",
      "metadata": {
        "id": "NGrBVdycwktP",
        "outputId": "10ffdbb2-c920-40ae-ea24-0630aa72e88c",
        "colab": {
          "base_uri": "https://localhost:8080/",
          "height": 0
        }
      },
      "source": [
        "pd.options.display.max_columns = None\n",
        "import missingno as msno\n",
        "\n",
        "msno.bar(dataset)"
      ],
      "execution_count": 16,
      "outputs": [
        {
          "output_type": "execute_result",
          "data": {
            "text/plain": [
              "<matplotlib.axes._subplots.AxesSubplot at 0x7f5c0abf6e80>"
            ]
          },
          "metadata": {
            "tags": []
          },
          "execution_count": 16
        },
        {
          "output_type": "display_data",
          "data": {
            "image/png": "[encoded data removed]",
            "text/plain": [
              "<Figure size 1728x720 with 3 Axes>"
            ]
          },
          "metadata": {
            "tags": [],
            "needs_background": "light"
          }
        }
      ]
    },
    {
      "cell_type": "code",
      "metadata": {
        "id": "7-7qjccowk8c",
        "outputId": "0394653a-8e7e-4173-cefa-04a1c45269d8",
        "colab": {
          "base_uri": "https://localhost:8080/",
          "height": 0
        }
      },
      "source": [
        "dataset.hist(figsize=(10, 10), bins=50, xlabelsize=8, ylabelsize=8)"
      ],
      "execution_count": 17,
      "outputs": [
        {
          "output_type": "execute_result",
          "data": {
            "text/plain": [
              "array([[<matplotlib.axes._subplots.AxesSubplot object at 0x7f5c068314a8>,\n",
              "        <matplotlib.axes._subplots.AxesSubplot object at 0x7f5c063b0128>],\n",
              "       [<matplotlib.axes._subplots.AxesSubplot object at 0x7f5c063e1390>,\n",
              "        <matplotlib.axes._subplots.AxesSubplot object at 0x7f5c063985f8>]],\n",
              "      dtype=object)"
            ]
          },
          "metadata": {
            "tags": []
          },
          "execution_count": 17
        },
        {
          "output_type": "display_data",
          "data": {
            "image/png": "[encoded data removed]",
            "text/plain": [
              "<Figure size 720x720 with 4 Axes>"
            ]
          },
          "metadata": {
            "tags": [],
            "needs_background": "light"
          }
        }
      ]
    },
    {
      "cell_type": "code",
      "metadata": {
        "id": "IUB1pFqCwoco"
      },
      "source": [
        "corr = dataset.corr()"
      ],
      "execution_count": 18,
      "outputs": []
    },
    {
      "cell_type": "code",
      "metadata": {
        "id": "i565W6rLwwKY",
        "outputId": "fa19bd89-d51a-44da-9dac-7ffb88c8862a",
        "colab": {
          "base_uri": "https://localhost:8080/",
          "height": 0
        }
      },
      "source": [
        "plt.figure(figsize=(10,10))\n",
        "sb.heatmap(corr, cbar=True, square= True, fmt='.1f', annot=True, annot_kws={'size':15}, cmap='Reds')"
      ],
      "execution_count": 19,
      "outputs": [
        {
          "output_type": "execute_result",
          "data": {
            "text/plain": [
              "<matplotlib.axes._subplots.AxesSubplot at 0x7f5c06106cf8>"
            ]
          },
          "metadata": {
            "tags": []
          },
          "execution_count": 19
        },
        {
          "output_type": "display_data",
          "data": {
            "image/png": "[encoded data removed]",
            "text/plain": [
              "<Figure size 720x720 with 2 Axes>"
            ]
          },
          "metadata": {
            "tags": [],
            "needs_background": "light"
          }
        }
      ]
    },
    {
      "cell_type": "markdown",
      "metadata": {
        "id": "t5G7HmTkxGt9"
      },
      "source": [
        "#Split Data"
      ]
    },
    {
      "cell_type": "code",
      "metadata": {
        "id": "kZC5-n-VwxQB"
      },
      "source": [
        "from sklearn import preprocessing\n",
        "from sklearn.metrics import mean_squared_error, mean_absolute_error, r2_score\n",
        "from sklearn.linear_model import LinearRegression"
      ],
      "execution_count": 20,
      "outputs": []
    },
    {
      "cell_type": "code",
      "metadata": {
        "id": "jld9VyD_xJ6d"
      },
      "source": [
        "label = dataset['Salnty']\n",
        "features = dataset.drop(['Salnty'], axis=1)"
      ],
      "execution_count": 21,
      "outputs": []
    },
    {
      "cell_type": "code",
      "metadata": {
        "id": "mCiFm_DjxNtp"
      },
      "source": [
        "scaler = preprocessing.StandardScaler()\n",
        "\n",
        "features = scaler.fit_transform(features.values)\n",
        "label = scaler.fit_transform(label.values.reshape(-1,1)).flatten()"
      ],
      "execution_count": 22,
      "outputs": []
    },
    {
      "cell_type": "code",
      "metadata": {
        "id": "FGqn8iYSxQr5"
      },
      "source": [
        "from sklearn.model_selection import train_test_split\n",
        "feature_train, feature_test, label_train, label_test = train_test_split(features, label, test_size=0.25, random_state=10)"
      ],
      "execution_count": 23,
      "outputs": []
    },
    {
      "cell_type": "code",
      "metadata": {
        "id": "cFjlH99TxbfC",
        "outputId": "130182e9-f23c-4ef2-f1a0-4ebf6341ad63",
        "colab": {
          "base_uri": "https://localhost:8080/",
          "height": 87
        }
      },
      "source": [
        "model = LinearRegression()\n",
        "model.fit(feature_train, label_train)\n",
        "algo_evaluation(model)"
      ],
      "execution_count": 24,
      "outputs": [
        {
          "output_type": "stream",
          "text": [
            "MSE (Mean Squared Error)         ->  0.6832035786398614\n",
            "MAE (Mean Absolute Error)        ->  0.5854716355968662\n",
            "r^2 score                        ->  0.3185370006447811\n",
            "RMSE (Root Mean Squared Error)   ->  0.8265612975695519\n"
          ],
          "name": "stdout"
        }
      ]
    },
    {
      "cell_type": "markdown",
      "metadata": {
        "id": "OCR70O_2xxhF"
      },
      "source": [
        "#Deep Learning"
      ]
    },
    {
      "cell_type": "code",
      "metadata": {
        "id": "YJsf5S3_x5kF"
      },
      "source": [
        "from tensorflow.keras.models import Sequential\n",
        "from tensorflow.keras.layers import Dense\n",
        "import tensorflow as tf, random"
      ],
      "execution_count": 25,
      "outputs": []
    },
    {
      "cell_type": "markdown",
      "metadata": {
        "id": "VCIzIB8UxylT"
      },
      "source": [
        "##Baseline Model"
      ]
    },
    {
      "cell_type": "code",
      "metadata": {
        "id": "4FcRibrSx6Vg"
      },
      "source": [
        "base_model = Sequential()\n",
        "base_model.add(Dense(200, input_dim=2, kernel_initializer='normal', activation='relu'))\n",
        "base_model.add(Dense(1, kernel_initializer='normal'))\n",
        "\n",
        "base_model.compile(loss='mean_squared_error', optimizer='adam')"
      ],
      "execution_count": 26,
      "outputs": []
    },
    {
      "cell_type": "code",
      "metadata": {
        "id": "YiTmMc3nx8x9",
        "outputId": "1856f406-1db4-4c7b-fcde-f8d4450defbd",
        "colab": {
          "base_uri": "https://localhost:8080/",
          "height": 1000
        }
      },
      "source": [
        "base_history = base_model.fit(x=feature_train, y=label_train, validation_data=(feature_test, label_test), epochs=100, batch_size=8)"
      ],
      "execution_count": 27,
      "outputs": [
        {
          "output_type": "stream",
          "text": [
            "Epoch 1/100\n",
            "81081/81081 [==============================] - 84s 1ms/step - loss: 0.3665 - val_loss: 0.3569\n",
            "Epoch 2/100\n",
            "81081/81081 [==============================] - 86s 1ms/step - loss: 0.3532 - val_loss: 0.3601\n",
            "Epoch 3/100\n",
            "81081/81081 [==============================] - 88s 1ms/step - loss: 0.3512 - val_loss: 0.3623\n",
            "Epoch 4/100\n",
            "81081/81081 [==============================] - 87s 1ms/step - loss: 0.3501 - val_loss: 0.3504\n",
            "Epoch 5/100\n",
            "81081/81081 [==============================] - 88s 1ms/step - loss: 0.3488 - val_loss: 0.3502\n",
            "Epoch 6/100\n",
            "81081/81081 [==============================] - 87s 1ms/step - loss: 0.3481 - val_loss: 0.3620\n",
            "Epoch 7/100\n",
            "81081/81081 [==============================] - 90s 1ms/step - loss: 0.3476 - val_loss: 0.3496\n",
            "Epoch 8/100\n",
            "81081/81081 [==============================] - 87s 1ms/step - loss: 0.3473 - val_loss: 0.3479\n",
            "Epoch 9/100\n",
            "81081/81081 [==============================] - 87s 1ms/step - loss: 0.3469 - val_loss: 0.3498\n",
            "Epoch 10/100\n",
            "81081/81081 [==============================] - 86s 1ms/step - loss: 0.3466 - val_loss: 0.3600\n",
            "Epoch 11/100\n",
            "81081/81081 [==============================] - 89s 1ms/step - loss: 0.3462 - val_loss: 0.3497\n",
            "Epoch 12/100\n",
            "81081/81081 [==============================] - 87s 1ms/step - loss: 0.3461 - val_loss: 0.3475\n",
            "Epoch 13/100\n",
            "81081/81081 [==============================] - 84s 1ms/step - loss: 0.3460 - val_loss: 0.3475\n",
            "Epoch 14/100\n",
            "81081/81081 [==============================] - 88s 1ms/step - loss: 0.3459 - val_loss: 0.3481\n",
            "Epoch 15/100\n",
            "81081/81081 [==============================] - 84s 1ms/step - loss: 0.3456 - val_loss: 0.3553\n",
            "Epoch 16/100\n",
            "81081/81081 [==============================] - 85s 1ms/step - loss: 0.3457 - val_loss: 0.3487\n",
            "Epoch 17/100\n",
            "81081/81081 [==============================] - 84s 1ms/step - loss: 0.3456 - val_loss: 0.3473\n",
            "Epoch 18/100\n",
            "81081/81081 [==============================] - 88s 1ms/step - loss: 0.3455 - val_loss: 0.3520\n",
            "Epoch 19/100\n",
            "81081/81081 [==============================] - 87s 1ms/step - loss: 0.3455 - val_loss: 0.3497\n",
            "Epoch 20/100\n",
            "81081/81081 [==============================] - 85s 1ms/step - loss: 0.3455 - val_loss: 0.3529\n",
            "Epoch 21/100\n",
            "81081/81081 [==============================] - 85s 1ms/step - loss: 0.3454 - val_loss: 0.3487\n",
            "Epoch 22/100\n",
            "81081/81081 [==============================] - 86s 1ms/step - loss: 0.3452 - val_loss: 0.3520\n",
            "Epoch 23/100\n",
            "81081/81081 [==============================] - 84s 1ms/step - loss: 0.3453 - val_loss: 0.3475\n",
            "Epoch 24/100\n",
            "81081/81081 [==============================] - 84s 1ms/step - loss: 0.3452 - val_loss: 0.3549\n",
            "Epoch 25/100\n",
            "81081/81081 [==============================] - 85s 1ms/step - loss: 0.3452 - val_loss: 0.3480\n",
            "Epoch 26/100\n",
            "81081/81081 [==============================] - 88s 1ms/step - loss: 0.3451 - val_loss: 0.3538\n",
            "Epoch 27/100\n",
            "81081/81081 [==============================] - 87s 1ms/step - loss: 0.3450 - val_loss: 0.3542\n",
            "Epoch 28/100\n",
            "81081/81081 [==============================] - 89s 1ms/step - loss: 0.3449 - val_loss: 0.3497\n",
            "Epoch 29/100\n",
            "81081/81081 [==============================] - 88s 1ms/step - loss: 0.3449 - val_loss: 0.3510\n",
            "Epoch 30/100\n",
            "81081/81081 [==============================] - 86s 1ms/step - loss: 0.3449 - val_loss: 0.3484\n",
            "Epoch 31/100\n",
            "81081/81081 [==============================] - 85s 1ms/step - loss: 0.3449 - val_loss: 0.3478\n",
            "Epoch 32/100\n",
            "81081/81081 [==============================] - 85s 1ms/step - loss: 0.3449 - val_loss: 0.3513\n",
            "Epoch 33/100\n",
            "81081/81081 [==============================] - 88s 1ms/step - loss: 0.3449 - val_loss: 0.3491\n",
            "Epoch 34/100\n",
            "81081/81081 [==============================] - 84s 1ms/step - loss: 0.3449 - val_loss: 0.3525\n",
            "Epoch 35/100\n",
            "81081/81081 [==============================] - 83s 1ms/step - loss: 0.3450 - val_loss: 0.3469\n",
            "Epoch 36/100\n",
            "81081/81081 [==============================] - 83s 1ms/step - loss: 0.3449 - val_loss: 0.3475\n",
            "Epoch 37/100\n",
            "81081/81081 [==============================] - 86s 1ms/step - loss: 0.3449 - val_loss: 0.3467\n",
            "Epoch 38/100\n",
            "81081/81081 [==============================] - 83s 1ms/step - loss: 0.3448 - val_loss: 0.3470\n",
            "Epoch 39/100\n",
            "81081/81081 [==============================] - 87s 1ms/step - loss: 0.3448 - val_loss: 0.3504\n",
            "Epoch 40/100\n",
            "81081/81081 [==============================] - 82s 1ms/step - loss: 0.3448 - val_loss: 0.3496\n",
            "Epoch 41/100\n",
            "81081/81081 [==============================] - 86s 1ms/step - loss: 0.3448 - val_loss: 0.3467\n",
            "Epoch 42/100\n",
            "81081/81081 [==============================] - 83s 1ms/step - loss: 0.3448 - val_loss: 0.3492\n",
            "Epoch 43/100\n",
            "81081/81081 [==============================] - 83s 1ms/step - loss: 0.3447 - val_loss: 0.3471\n",
            "Epoch 44/100\n",
            "81081/81081 [==============================] - 83s 1ms/step - loss: 0.3447 - val_loss: 0.3486\n",
            "Epoch 45/100\n",
            "81081/81081 [==============================] - 85s 1ms/step - loss: 0.3446 - val_loss: 0.3518\n",
            "Epoch 46/100\n",
            "81081/81081 [==============================] - 83s 1ms/step - loss: 0.3447 - val_loss: 0.3489\n",
            "Epoch 47/100\n",
            "81081/81081 [==============================] - 82s 1ms/step - loss: 0.3446 - val_loss: 0.3495\n",
            "Epoch 48/100\n",
            "81081/81081 [==============================] - 83s 1ms/step - loss: 0.3446 - val_loss: 0.3505\n",
            "Epoch 49/100\n",
            "81081/81081 [==============================] - 88s 1ms/step - loss: 0.3447 - val_loss: 0.3490\n",
            "Epoch 50/100\n",
            "81081/81081 [==============================] - 82s 1ms/step - loss: 0.3447 - val_loss: 0.3467\n",
            "Epoch 51/100\n",
            "81081/81081 [==============================] - 82s 1ms/step - loss: 0.3446 - val_loss: 0.3507\n",
            "Epoch 52/100\n",
            "81081/81081 [==============================] - 85s 1ms/step - loss: 0.3446 - val_loss: 0.3475\n",
            "Epoch 53/100\n",
            "81081/81081 [==============================] - 82s 1ms/step - loss: 0.3447 - val_loss: 0.3477\n",
            "Epoch 54/100\n",
            "81081/81081 [==============================] - 82s 1ms/step - loss: 0.3447 - val_loss: 0.3487\n",
            "Epoch 55/100\n",
            "81081/81081 [==============================] - 82s 1ms/step - loss: 0.3446 - val_loss: 0.3469\n",
            "Epoch 56/100\n",
            "81081/81081 [==============================] - 85s 1ms/step - loss: 0.3447 - val_loss: 0.3477\n",
            "Epoch 57/100\n",
            "81081/81081 [==============================] - 82s 1ms/step - loss: 0.3447 - val_loss: 0.3510\n",
            "Epoch 58/100\n",
            "81081/81081 [==============================] - 86s 1ms/step - loss: 0.3446 - val_loss: 0.3551\n",
            "Epoch 59/100\n",
            "81081/81081 [==============================] - 82s 1ms/step - loss: 0.3446 - val_loss: 0.3471\n",
            "Epoch 60/100\n",
            "81081/81081 [==============================] - 85s 1ms/step - loss: 0.3446 - val_loss: 0.3465\n",
            "Epoch 61/100\n",
            "81081/81081 [==============================] - 82s 1ms/step - loss: 0.3446 - val_loss: 0.3488\n",
            "Epoch 62/100\n",
            "81081/81081 [==============================] - 82s 1ms/step - loss: 0.3446 - val_loss: 0.3489\n",
            "Epoch 63/100\n",
            "81081/81081 [==============================] - 83s 1ms/step - loss: 0.3446 - val_loss: 0.3479\n",
            "Epoch 64/100\n",
            "81081/81081 [==============================] - 86s 1ms/step - loss: 0.3446 - val_loss: 0.3480\n",
            "Epoch 65/100\n",
            "81081/81081 [==============================] - 86s 1ms/step - loss: 0.3445 - val_loss: 0.3549\n",
            "Epoch 66/100\n",
            "81081/81081 [==============================] - 83s 1ms/step - loss: 0.3446 - val_loss: 0.3483\n",
            "Epoch 67/100\n",
            "81081/81081 [==============================] - 83s 1ms/step - loss: 0.3445 - val_loss: 0.3475\n",
            "Epoch 68/100\n",
            "81081/81081 [==============================] - 85s 1ms/step - loss: 0.3445 - val_loss: 0.3502\n",
            "Epoch 69/100\n",
            "81081/81081 [==============================] - 82s 1ms/step - loss: 0.3446 - val_loss: 0.3467\n",
            "Epoch 70/100\n",
            "81081/81081 [==============================] - 82s 1ms/step - loss: 0.3446 - val_loss: 0.3516\n",
            "Epoch 71/100\n",
            "81081/81081 [==============================] - 84s 1ms/step - loss: 0.3446 - val_loss: 0.3507\n",
            "Epoch 72/100\n",
            "81081/81081 [==============================] - 89s 1ms/step - loss: 0.3446 - val_loss: 0.3487\n",
            "Epoch 73/100\n",
            "81081/81081 [==============================] - 83s 1ms/step - loss: 0.3446 - val_loss: 0.3504\n",
            "Epoch 74/100\n",
            "81081/81081 [==============================] - 83s 1ms/step - loss: 0.3446 - val_loss: 0.3495\n",
            "Epoch 75/100\n",
            "81081/81081 [==============================] - 84s 1ms/step - loss: 0.3446 - val_loss: 0.3467\n",
            "Epoch 76/100\n",
            "81081/81081 [==============================] - 84s 1ms/step - loss: 0.3445 - val_loss: 0.3488\n",
            "Epoch 77/100\n",
            "81081/81081 [==============================] - 82s 1ms/step - loss: 0.3446 - val_loss: 0.3466\n",
            "Epoch 78/100\n",
            "81081/81081 [==============================] - 84s 1ms/step - loss: 0.3446 - val_loss: 0.3536\n",
            "Epoch 79/100\n",
            "81081/81081 [==============================] - 85s 1ms/step - loss: 0.3444 - val_loss: 0.3478\n",
            "Epoch 80/100\n",
            "81081/81081 [==============================] - 87s 1ms/step - loss: 0.3446 - val_loss: 0.3503\n",
            "Epoch 81/100\n",
            "81081/81081 [==============================] - 82s 1ms/step - loss: 0.3445 - val_loss: 0.3561\n",
            "Epoch 82/100\n",
            "81081/81081 [==============================] - 83s 1ms/step - loss: 0.3445 - val_loss: 0.3498\n",
            "Epoch 83/100\n",
            "81081/81081 [==============================] - 85s 1ms/step - loss: 0.3446 - val_loss: 0.3470\n",
            "Epoch 84/100\n",
            "81081/81081 [==============================] - 83s 1ms/step - loss: 0.3444 - val_loss: 0.3467\n",
            "Epoch 85/100\n",
            "81081/81081 [==============================] - 83s 1ms/step - loss: 0.3445 - val_loss: 0.3477\n",
            "Epoch 86/100\n",
            "81081/81081 [==============================] - 82s 1ms/step - loss: 0.3445 - val_loss: 0.3491\n",
            "Epoch 87/100\n",
            "81081/81081 [==============================] - 89s 1ms/step - loss: 0.3444 - val_loss: 0.3467\n",
            "Epoch 88/100\n",
            "81081/81081 [==============================] - 83s 1ms/step - loss: 0.3445 - val_loss: 0.3469\n",
            "Epoch 89/100\n",
            "81081/81081 [==============================] - 84s 1ms/step - loss: 0.3446 - val_loss: 0.3471\n",
            "Epoch 90/100\n",
            "81081/81081 [==============================] - 82s 1ms/step - loss: 0.3445 - val_loss: 0.3472\n",
            "Epoch 91/100\n",
            "81081/81081 [==============================] - 85s 1ms/step - loss: 0.3445 - val_loss: 0.3496\n",
            "Epoch 92/100\n",
            "81081/81081 [==============================] - 82s 1ms/step - loss: 0.3445 - val_loss: 0.3472\n",
            "Epoch 93/100\n",
            "81081/81081 [==============================] - 83s 1ms/step - loss: 0.3445 - val_loss: 0.3474\n",
            "Epoch 94/100\n",
            "81081/81081 [==============================] - 82s 1ms/step - loss: 0.3445 - val_loss: 0.3474\n",
            "Epoch 95/100\n",
            "81081/81081 [==============================] - 88s 1ms/step - loss: 0.3445 - val_loss: 0.3495\n",
            "Epoch 96/100\n",
            "81081/81081 [==============================] - 83s 1ms/step - loss: 0.3445 - val_loss: 0.3482\n",
            "Epoch 97/100\n",
            "81081/81081 [==============================] - 81s 999us/step - loss: 0.3444 - val_loss: 0.3507\n",
            "Epoch 98/100\n",
            "81081/81081 [==============================] - 82s 1ms/step - loss: 0.3445 - val_loss: 0.3510\n",
            "Epoch 99/100\n",
            "81081/81081 [==============================] - 85s 1ms/step - loss: 0.3446 - val_loss: 0.3468\n",
            "Epoch 100/100\n",
            "81081/81081 [==============================] - 84s 1ms/step - loss: 0.3445 - val_loss: 0.3469\n"
          ],
          "name": "stdout"
        }
      ]
    },
    {
      "cell_type": "code",
      "metadata": {
        "id": "CvqeQIlYx80Q",
        "outputId": "609fd99b-aa31-4a44-ee52-fdf1cea7ea3d",
        "colab": {
          "base_uri": "https://localhost:8080/",
          "height": 87
        }
      },
      "source": [
        "predictions = base_model.predict(feature_test)\n",
        "predictions = predictions.flatten()\n",
        "algo_evaluation(base_model)"
      ],
      "execution_count": 28,
      "outputs": [
        {
          "output_type": "stream",
          "text": [
            "MSE (Mean Squared Error)         ->  0.34687518593244604\n",
            "MAE (Mean Absolute Error)        ->  0.39246179738568676\n",
            "r^2 score                        ->  0.6540085385998413\n",
            "RMSE (Root Mean Squared Error)   ->  0.588961107317322\n"
          ],
          "name": "stdout"
        }
      ]
    },
    {
      "cell_type": "code",
      "metadata": {
        "id": "Q1uIGzkbyATN",
        "outputId": "9353c322-3646-4ab5-e218-dc29a30d3ccc",
        "colab": {
          "base_uri": "https://localhost:8080/",
          "height": 367
        }
      },
      "source": [
        "plot_loss(base_history)"
      ],
      "execution_count": 29,
      "outputs": [
        {
          "output_type": "display_data",
          "data": {
            "image/png": "[encoded data removed]",
            "text/plain": [
              "<Figure size 432x288 with 1 Axes>"
            ]
          },
          "metadata": {
            "tags": [],
            "needs_background": "light"
          }
        },
        {
          "output_type": "stream",
          "text": [
            "Minimun Loss : 96    0.344383\n",
            "Name: loss, dtype: float64\n",
            "---------------------------------------\n",
            "Minimun Validation Loss : 59    0.346461\n",
            "Name: val_loss, dtype: float64\n"
          ],
          "name": "stdout"
        }
      ]
    },
    {
      "cell_type": "markdown",
      "metadata": {
        "id": "iCnXbieOxyqy"
      },
      "source": [
        "##Deeper Model"
      ]
    },
    {
      "cell_type": "code",
      "metadata": {
        "id": "pionPXNUyWir"
      },
      "source": [
        "deeper_model = Sequential()\n",
        "deeper_model.add(Dense(200, input_dim=2, kernel_initializer='normal', activation='relu'))\n",
        "deeper_model.add(Dense(100, kernel_initializer='normal', activation='relu'))\n",
        "deeper_model.add(Dense(1, kernel_initializer='normal'))\n",
        "\n",
        "deeper_model.compile(loss='mean_squared_error', optimizer='adam')"
      ],
      "execution_count": 30,
      "outputs": []
    },
    {
      "cell_type": "code",
      "metadata": {
        "id": "zanNODOAyXBb",
        "outputId": "833a05e4-92d7-4557-ae7d-36ab42b8b778",
        "colab": {
          "base_uri": "https://localhost:8080/",
          "height": 1000
        }
      },
      "source": [
        "history_deeper_model = deeper_model.fit(x=feature_train, y=label_train, validation_data=(feature_test, label_test), epochs=100, batch_size=8)"
      ],
      "execution_count": 31,
      "outputs": [
        {
          "output_type": "stream",
          "text": [
            "Epoch 1/100\n",
            "81081/81081 [==============================] - 108s 1ms/step - loss: 0.3529 - val_loss: 0.3516\n",
            "Epoch 2/100\n",
            "81081/81081 [==============================] - 115s 1ms/step - loss: 0.3449 - val_loss: 0.3468\n",
            "Epoch 3/100\n",
            "81081/81081 [==============================] - 108s 1ms/step - loss: 0.3434 - val_loss: 0.3509\n",
            "Epoch 4/100\n",
            "81081/81081 [==============================] - 107s 1ms/step - loss: 0.3427 - val_loss: 0.3459\n",
            "Epoch 5/100\n",
            "81081/81081 [==============================] - 111s 1ms/step - loss: 0.3421 - val_loss: 0.3457\n",
            "Epoch 6/100\n",
            "81081/81081 [==============================] - 109s 1ms/step - loss: 0.3416 - val_loss: 0.3441\n",
            "Epoch 7/100\n",
            "81081/81081 [==============================] - 112s 1ms/step - loss: 0.3414 - val_loss: 0.3483\n",
            "Epoch 8/100\n",
            "81081/81081 [==============================] - 112s 1ms/step - loss: 0.3412 - val_loss: 0.3467\n",
            "Epoch 9/100\n",
            "81081/81081 [==============================] - 108s 1ms/step - loss: 0.3412 - val_loss: 0.3436\n",
            "Epoch 10/100\n",
            "81081/81081 [==============================] - 109s 1ms/step - loss: 0.3409 - val_loss: 0.3447\n",
            "Epoch 11/100\n",
            "81081/81081 [==============================] - 112s 1ms/step - loss: 0.3408 - val_loss: 0.3435\n",
            "Epoch 12/100\n",
            "81081/81081 [==============================] - 109s 1ms/step - loss: 0.3407 - val_loss: 0.3439\n",
            "Epoch 13/100\n",
            "81081/81081 [==============================] - 113s 1ms/step - loss: 0.3406 - val_loss: 0.3503\n",
            "Epoch 14/100\n",
            "81081/81081 [==============================] - 112s 1ms/step - loss: 0.3406 - val_loss: 0.3455\n",
            "Epoch 15/100\n",
            "81081/81081 [==============================] - 107s 1ms/step - loss: 0.3404 - val_loss: 0.3475\n",
            "Epoch 16/100\n",
            "81081/81081 [==============================] - 108s 1ms/step - loss: 0.3403 - val_loss: 0.3450\n",
            "Epoch 17/100\n",
            "81081/81081 [==============================] - 111s 1ms/step - loss: 0.3402 - val_loss: 0.3427\n",
            "Epoch 18/100\n",
            "81081/81081 [==============================] - 111s 1ms/step - loss: 0.3403 - val_loss: 0.3431\n",
            "Epoch 19/100\n",
            "81081/81081 [==============================] - 108s 1ms/step - loss: 0.3401 - val_loss: 0.3449\n",
            "Epoch 20/100\n",
            "81081/81081 [==============================] - 111s 1ms/step - loss: 0.3404 - val_loss: 0.3427\n",
            "Epoch 21/100\n",
            "81081/81081 [==============================] - 107s 1ms/step - loss: 0.3403 - val_loss: 0.3496\n",
            "Epoch 22/100\n",
            "81081/81081 [==============================] - 108s 1ms/step - loss: 0.3400 - val_loss: 0.3451\n",
            "Epoch 23/100\n",
            "81081/81081 [==============================] - 110s 1ms/step - loss: 0.3401 - val_loss: 0.3419\n",
            "Epoch 24/100\n",
            "81081/81081 [==============================] - 112s 1ms/step - loss: 0.3402 - val_loss: 0.3436\n",
            "Epoch 25/100\n",
            "81081/81081 [==============================] - 109s 1ms/step - loss: 0.3401 - val_loss: 0.3442\n",
            "Epoch 26/100\n",
            "81081/81081 [==============================] - 108s 1ms/step - loss: 0.3400 - val_loss: 0.3447\n",
            "Epoch 27/100\n",
            "81081/81081 [==============================] - 107s 1ms/step - loss: 0.3399 - val_loss: 0.3427\n",
            "Epoch 28/100\n",
            "81081/81081 [==============================] - 108s 1ms/step - loss: 0.3398 - val_loss: 0.3450\n",
            "Epoch 29/100\n",
            "81081/81081 [==============================] - 109s 1ms/step - loss: 0.3398 - val_loss: 0.3420\n",
            "Epoch 30/100\n",
            "81081/81081 [==============================] - 107s 1ms/step - loss: 0.3396 - val_loss: 0.3459\n",
            "Epoch 31/100\n",
            "81081/81081 [==============================] - 109s 1ms/step - loss: 0.3395 - val_loss: 0.3420\n",
            "Epoch 32/100\n",
            "81081/81081 [==============================] - 108s 1ms/step - loss: 0.3396 - val_loss: 0.3420\n",
            "Epoch 33/100\n",
            "81081/81081 [==============================] - 107s 1ms/step - loss: 0.3394 - val_loss: 0.3444\n",
            "Epoch 34/100\n",
            "81081/81081 [==============================] - 110s 1ms/step - loss: 0.3396 - val_loss: 0.3450\n",
            "Epoch 35/100\n",
            "81081/81081 [==============================] - 109s 1ms/step - loss: 0.3394 - val_loss: 0.3420\n",
            "Epoch 36/100\n",
            "81081/81081 [==============================] - 107s 1ms/step - loss: 0.3392 - val_loss: 0.3448\n",
            "Epoch 37/100\n",
            "81081/81081 [==============================] - 110s 1ms/step - loss: 0.3393 - val_loss: 0.3444\n",
            "Epoch 38/100\n",
            "81081/81081 [==============================] - 109s 1ms/step - loss: 0.3394 - val_loss: 0.3436\n",
            "Epoch 39/100\n",
            "81081/81081 [==============================] - 110s 1ms/step - loss: 0.3394 - val_loss: 0.3438\n",
            "Epoch 40/100\n",
            "81081/81081 [==============================] - 112s 1ms/step - loss: 0.3394 - val_loss: 0.3430\n",
            "Epoch 41/100\n",
            "81081/81081 [==============================] - 109s 1ms/step - loss: 0.3393 - val_loss: 0.3415\n",
            "Epoch 42/100\n",
            "81081/81081 [==============================] - 111s 1ms/step - loss: 0.3392 - val_loss: 0.3442\n",
            "Epoch 43/100\n",
            "81081/81081 [==============================] - 117s 1ms/step - loss: 0.3392 - val_loss: 0.3435\n",
            "Epoch 44/100\n",
            "81081/81081 [==============================] - 110s 1ms/step - loss: 0.3391 - val_loss: 0.3451\n",
            "Epoch 45/100\n",
            "81081/81081 [==============================] - 111s 1ms/step - loss: 0.3392 - val_loss: 0.3423\n",
            "Epoch 46/100\n",
            "81081/81081 [==============================] - 112s 1ms/step - loss: 0.3391 - val_loss: 0.3418\n",
            "Epoch 47/100\n",
            "81081/81081 [==============================] - 110s 1ms/step - loss: 0.3390 - val_loss: 0.3433\n",
            "Epoch 48/100\n",
            "81081/81081 [==============================] - 112s 1ms/step - loss: 0.3390 - val_loss: 0.3425\n",
            "Epoch 49/100\n",
            "81081/81081 [==============================] - 119s 1ms/step - loss: 0.3390 - val_loss: 0.3433\n",
            "Epoch 50/100\n",
            "81081/81081 [==============================] - 113s 1ms/step - loss: 0.3390 - val_loss: 0.3420\n",
            "Epoch 51/100\n",
            "81081/81081 [==============================] - 110s 1ms/step - loss: 0.3390 - val_loss: 0.3424\n",
            "Epoch 52/100\n",
            "81081/81081 [==============================] - 113s 1ms/step - loss: 0.3390 - val_loss: 0.3426\n",
            "Epoch 53/100\n",
            "81081/81081 [==============================] - 110s 1ms/step - loss: 0.3390 - val_loss: 0.3414\n",
            "Epoch 54/100\n",
            "81081/81081 [==============================] - 114s 1ms/step - loss: 0.3389 - val_loss: 0.3435\n",
            "Epoch 55/100\n",
            "81081/81081 [==============================] - 111s 1ms/step - loss: 0.3389 - val_loss: 0.3408\n",
            "Epoch 56/100\n",
            "81081/81081 [==============================] - 108s 1ms/step - loss: 0.3390 - val_loss: 0.3428\n",
            "Epoch 57/100\n",
            "81081/81081 [==============================] - 107s 1ms/step - loss: 0.3389 - val_loss: 0.3422\n",
            "Epoch 58/100\n",
            "81081/81081 [==============================] - 111s 1ms/step - loss: 0.3391 - val_loss: 0.3408\n",
            "Epoch 59/100\n",
            "81081/81081 [==============================] - 109s 1ms/step - loss: 0.3389 - val_loss: 0.3418\n",
            "Epoch 60/100\n",
            "81081/81081 [==============================] - 113s 1ms/step - loss: 0.3389 - val_loss: 0.3455\n",
            "Epoch 61/100\n",
            "81081/81081 [==============================] - 111s 1ms/step - loss: 0.3389 - val_loss: 0.3418\n",
            "Epoch 62/100\n",
            "81081/81081 [==============================] - 108s 1ms/step - loss: 0.3389 - val_loss: 0.3458\n",
            "Epoch 63/100\n",
            "81081/81081 [==============================] - 108s 1ms/step - loss: 0.3390 - val_loss: 0.3437\n",
            "Epoch 64/100\n",
            "81081/81081 [==============================] - 111s 1ms/step - loss: 0.3390 - val_loss: 0.3433\n",
            "Epoch 65/100\n",
            "81081/81081 [==============================] - 113s 1ms/step - loss: 0.3390 - val_loss: 0.3436\n",
            "Epoch 66/100\n",
            "81081/81081 [==============================] - 110s 1ms/step - loss: 0.3388 - val_loss: 0.3423\n",
            "Epoch 67/100\n",
            "81081/81081 [==============================] - 113s 1ms/step - loss: 0.3389 - val_loss: 0.3447\n",
            "Epoch 68/100\n",
            "81081/81081 [==============================] - 109s 1ms/step - loss: 0.3389 - val_loss: 0.3413\n",
            "Epoch 69/100\n",
            "81081/81081 [==============================] - 109s 1ms/step - loss: 0.3390 - val_loss: 0.3447\n",
            "Epoch 70/100\n",
            "81081/81081 [==============================] - 109s 1ms/step - loss: 0.3389 - val_loss: 0.3428\n",
            "Epoch 71/100\n",
            "81081/81081 [==============================] - 112s 1ms/step - loss: 0.3389 - val_loss: 0.3419\n",
            "Epoch 72/100\n",
            "81081/81081 [==============================] - 110s 1ms/step - loss: 0.3390 - val_loss: 0.3437\n",
            "Epoch 73/100\n",
            "81081/81081 [==============================] - 108s 1ms/step - loss: 0.3388 - val_loss: 0.3461\n",
            "Epoch 74/100\n",
            "81081/81081 [==============================] - 109s 1ms/step - loss: 0.3389 - val_loss: 0.3420\n",
            "Epoch 75/100\n",
            "81081/81081 [==============================] - 113s 1ms/step - loss: 0.3389 - val_loss: 0.3424\n",
            "Epoch 76/100\n",
            "81081/81081 [==============================] - 115s 1ms/step - loss: 0.3389 - val_loss: 0.3422\n",
            "Epoch 77/100\n",
            "81081/81081 [==============================] - 109s 1ms/step - loss: 0.3389 - val_loss: 0.3431\n",
            "Epoch 78/100\n",
            "81081/81081 [==============================] - 113s 1ms/step - loss: 0.3388 - val_loss: 0.3410\n",
            "Epoch 79/100\n",
            "81081/81081 [==============================] - 109s 1ms/step - loss: 0.3387 - val_loss: 0.3438\n",
            "Epoch 80/100\n",
            "81081/81081 [==============================] - 109s 1ms/step - loss: 0.3388 - val_loss: 0.3417\n",
            "Epoch 81/100\n",
            "81081/81081 [==============================] - 114s 1ms/step - loss: 0.3387 - val_loss: 0.3427\n",
            "Epoch 82/100\n",
            "81081/81081 [==============================] - 114s 1ms/step - loss: 0.3387 - val_loss: 0.3428\n",
            "Epoch 83/100\n",
            "81081/81081 [==============================] - 109s 1ms/step - loss: 0.3387 - val_loss: 0.3441\n",
            "Epoch 84/100\n",
            "81081/81081 [==============================] - 116s 1ms/step - loss: 0.3387 - val_loss: 0.3423\n",
            "Epoch 85/100\n",
            "81081/81081 [==============================] - 111s 1ms/step - loss: 0.3387 - val_loss: 0.3417\n",
            "Epoch 86/100\n",
            "81081/81081 [==============================] - 110s 1ms/step - loss: 0.3387 - val_loss: 0.3422\n",
            "Epoch 87/100\n",
            "81081/81081 [==============================] - 118s 1ms/step - loss: 0.3386 - val_loss: 0.3421\n",
            "Epoch 88/100\n",
            "81081/81081 [==============================] - 109s 1ms/step - loss: 0.3387 - val_loss: 0.3423\n",
            "Epoch 89/100\n",
            "81081/81081 [==============================] - 110s 1ms/step - loss: 0.3388 - val_loss: 0.3424\n",
            "Epoch 90/100\n",
            "81081/81081 [==============================] - 111s 1ms/step - loss: 0.3387 - val_loss: 0.3421\n",
            "Epoch 91/100\n",
            "81081/81081 [==============================] - 109s 1ms/step - loss: 0.3387 - val_loss: 0.3433\n",
            "Epoch 92/100\n",
            "81081/81081 [==============================] - 111s 1ms/step - loss: 0.3388 - val_loss: 0.3440\n",
            "Epoch 93/100\n",
            "81081/81081 [==============================] - 116s 1ms/step - loss: 0.3399 - val_loss: 0.3450\n",
            "Epoch 94/100\n",
            "81081/81081 [==============================] - 110s 1ms/step - loss: 0.3398 - val_loss: 0.3429\n",
            "Epoch 95/100\n",
            "81081/81081 [==============================] - 110s 1ms/step - loss: 0.3397 - val_loss: 0.3425\n",
            "Epoch 96/100\n",
            "81081/81081 [==============================] - 116s 1ms/step - loss: 0.3396 - val_loss: 0.3445\n",
            "Epoch 97/100\n",
            "81081/81081 [==============================] - 111s 1ms/step - loss: 0.3397 - val_loss: 0.3430\n",
            "Epoch 98/100\n",
            "81081/81081 [==============================] - 123s 2ms/step - loss: 0.3396 - val_loss: 0.3420\n",
            "Epoch 99/100\n",
            "81081/81081 [==============================] - 114s 1ms/step - loss: 0.3396 - val_loss: 0.3447\n",
            "Epoch 100/100\n",
            "81081/81081 [==============================] - 118s 1ms/step - loss: 0.3396 - val_loss: 0.3425\n"
          ],
          "name": "stdout"
        }
      ]
    },
    {
      "cell_type": "code",
      "metadata": {
        "id": "nomSsK7jyWe_",
        "outputId": "7b083e09-bb52-4d0f-a5ba-becd2c88054b",
        "colab": {
          "base_uri": "https://localhost:8080/",
          "height": 87
        }
      },
      "source": [
        "predictions = deeper_model.predict(feature_test)\n",
        "predictions = predictions.flatten()\n",
        "algo_evaluation(deeper_model)"
      ],
      "execution_count": 32,
      "outputs": [
        {
          "output_type": "stream",
          "text": [
            "MSE (Mean Squared Error)         ->  0.34254712007377214\n",
            "MAE (Mean Absolute Error)        ->  0.39325251228725555\n",
            "r^2 score                        ->  0.6583255779621505\n",
            "RMSE (Root Mean Squared Error)   ->  0.5852752515473144\n"
          ],
          "name": "stdout"
        }
      ]
    },
    {
      "cell_type": "code",
      "metadata": {
        "id": "gh8qSVAtyfpP",
        "outputId": "99660083-a523-41c8-c6fb-89a93c8fb182",
        "colab": {
          "base_uri": "https://localhost:8080/",
          "height": 367
        }
      },
      "source": [
        "plot_loss(history_deeper_model)"
      ],
      "execution_count": 33,
      "outputs": [
        {
          "output_type": "display_data",
          "data": {
            "image/png": "[encoded data removed]",
            "text/plain": [
              "<Figure size 432x288 with 1 Axes>"
            ]
          },
          "metadata": {
            "tags": [],
            "needs_background": "light"
          }
        },
        {
          "output_type": "stream",
          "text": [
            "Minimun Loss : 86    0.33865\n",
            "Name: loss, dtype: float64\n",
            "---------------------------------------\n",
            "Minimun Validation Loss : 57    0.340813\n",
            "Name: val_loss, dtype: float64\n"
          ],
          "name": "stdout"
        }
      ]
    },
    {
      "cell_type": "markdown",
      "metadata": {
        "id": "tbNVUyT8xys6"
      },
      "source": [
        "##Wider Model"
      ]
    },
    {
      "cell_type": "code",
      "metadata": {
        "id": "CxqhffUrymf6"
      },
      "source": [
        "wider_model = Sequential()\n",
        "wider_model.add(Dense(200, input_dim=2, kernel_initializer='normal', activation='relu'))\n",
        "wider_model.add(Dense(1, kernel_initializer='normal'))\n",
        "\n",
        "wider_model.compile(loss='mean_squared_error', optimizer='adam')"
      ],
      "execution_count": 34,
      "outputs": []
    },
    {
      "cell_type": "markdown",
      "metadata": {
        "id": "EwgtArw2BtHb"
      },
      "source": [
        ""
      ]
    },
    {
      "cell_type": "code",
      "metadata": {
        "id": "WlhNWtiEymiI",
        "outputId": "a4fcfb37-1fb2-4196-f26e-65fdc36e473b",
        "colab": {
          "base_uri": "https://localhost:8080/",
          "height": 1000
        }
      },
      "source": [
        "history_wider_model = wider_model.fit(x=feature_train, y=label_train, validation_data=(feature_test, label_test), epochs=100, batch_size=8)"
      ],
      "execution_count": 35,
      "outputs": [
        {
          "output_type": "stream",
          "text": [
            "Epoch 1/100\n",
            "81081/81081 [==============================] - 91s 1ms/step - loss: 0.3687 - val_loss: 0.3621\n",
            "Epoch 2/100\n",
            "81081/81081 [==============================] - 88s 1ms/step - loss: 0.3530 - val_loss: 0.3509\n",
            "Epoch 3/100\n",
            "81081/81081 [==============================] - 88s 1ms/step - loss: 0.3502 - val_loss: 0.3643\n",
            "Epoch 4/100\n",
            "81081/81081 [==============================] - 91s 1ms/step - loss: 0.3492 - val_loss: 0.3576\n",
            "Epoch 5/100\n",
            "81081/81081 [==============================] - 90s 1ms/step - loss: 0.3485 - val_loss: 0.3547\n",
            "Epoch 6/100\n",
            "81081/81081 [==============================] - 86s 1ms/step - loss: 0.3479 - val_loss: 0.3518\n",
            "Epoch 7/100\n",
            "81081/81081 [==============================] - 88s 1ms/step - loss: 0.3473 - val_loss: 0.3488\n",
            "Epoch 8/100\n",
            "81081/81081 [==============================] - 86s 1ms/step - loss: 0.3470 - val_loss: 0.3470\n",
            "Epoch 9/100\n",
            "81081/81081 [==============================] - 89s 1ms/step - loss: 0.3465 - val_loss: 0.3521\n",
            "Epoch 10/100\n",
            "81081/81081 [==============================] - 87s 1ms/step - loss: 0.3463 - val_loss: 0.3467\n",
            "Epoch 11/100\n",
            "81081/81081 [==============================] - 90s 1ms/step - loss: 0.3459 - val_loss: 0.3501\n",
            "Epoch 12/100\n",
            "81081/81081 [==============================] - 89s 1ms/step - loss: 0.3457 - val_loss: 0.3491\n",
            "Epoch 13/100\n",
            "81081/81081 [==============================] - 85s 1ms/step - loss: 0.3457 - val_loss: 0.3463\n",
            "Epoch 14/100\n",
            "81081/81081 [==============================] - 86s 1ms/step - loss: 0.3455 - val_loss: 0.3532\n",
            "Epoch 15/100\n",
            "81081/81081 [==============================] - 85s 1ms/step - loss: 0.3454 - val_loss: 0.3471\n",
            "Epoch 16/100\n",
            "81081/81081 [==============================] - 88s 1ms/step - loss: 0.3454 - val_loss: 0.3466\n",
            "Epoch 17/100\n",
            "81081/81081 [==============================] - 85s 1ms/step - loss: 0.3451 - val_loss: 0.3472\n",
            "Epoch 18/100\n",
            "81081/81081 [==============================] - 89s 1ms/step - loss: 0.3451 - val_loss: 0.3473\n",
            "Epoch 19/100\n",
            "81081/81081 [==============================] - 85s 1ms/step - loss: 0.3451 - val_loss: 0.3502\n",
            "Epoch 20/100\n",
            "81081/81081 [==============================] - 88s 1ms/step - loss: 0.3450 - val_loss: 0.3488\n",
            "Epoch 21/100\n",
            "81081/81081 [==============================] - 87s 1ms/step - loss: 0.3450 - val_loss: 0.3532\n",
            "Epoch 22/100\n",
            "81081/81081 [==============================] - 85s 1ms/step - loss: 0.3449 - val_loss: 0.3464\n",
            "Epoch 23/100\n",
            "81081/81081 [==============================] - 88s 1ms/step - loss: 0.3448 - val_loss: 0.3460\n",
            "Epoch 24/100\n",
            "81081/81081 [==============================] - 87s 1ms/step - loss: 0.3446 - val_loss: 0.3554\n",
            "Epoch 25/100\n",
            "81081/81081 [==============================] - 91s 1ms/step - loss: 0.3445 - val_loss: 0.3473\n",
            "Epoch 26/100\n",
            "81081/81081 [==============================] - 85s 1ms/step - loss: 0.3443 - val_loss: 0.3467\n",
            "Epoch 27/100\n",
            "81081/81081 [==============================] - 88s 1ms/step - loss: 0.3443 - val_loss: 0.3458\n",
            "Epoch 28/100\n",
            "81081/81081 [==============================] - 86s 1ms/step - loss: 0.3442 - val_loss: 0.3469\n",
            "Epoch 29/100\n",
            "81081/81081 [==============================] - 85s 1ms/step - loss: 0.3443 - val_loss: 0.3466\n",
            "Epoch 30/100\n",
            "81081/81081 [==============================] - 86s 1ms/step - loss: 0.3442 - val_loss: 0.3510\n",
            "Epoch 31/100\n",
            "81081/81081 [==============================] - 89s 1ms/step - loss: 0.3442 - val_loss: 0.3545\n",
            "Epoch 32/100\n",
            "81081/81081 [==============================] - 90s 1ms/step - loss: 0.3442 - val_loss: 0.3472\n",
            "Epoch 33/100\n",
            "81081/81081 [==============================] - 85s 1ms/step - loss: 0.3441 - val_loss: 0.3506\n",
            "Epoch 34/100\n",
            "81081/81081 [==============================] - 88s 1ms/step - loss: 0.3441 - val_loss: 0.3473\n",
            "Epoch 35/100\n",
            "81081/81081 [==============================] - 88s 1ms/step - loss: 0.3440 - val_loss: 0.3534\n",
            "Epoch 36/100\n",
            "81081/81081 [==============================] - 86s 1ms/step - loss: 0.3440 - val_loss: 0.3506\n",
            "Epoch 37/100\n",
            "81081/81081 [==============================] - 87s 1ms/step - loss: 0.3440 - val_loss: 0.3457\n",
            "Epoch 38/100\n",
            "81081/81081 [==============================] - 91s 1ms/step - loss: 0.3441 - val_loss: 0.3475\n",
            "Epoch 39/100\n",
            "81081/81081 [==============================] - 91s 1ms/step - loss: 0.3439 - val_loss: 0.3470\n",
            "Epoch 40/100\n",
            "81081/81081 [==============================] - 86s 1ms/step - loss: 0.3441 - val_loss: 0.3470\n",
            "Epoch 41/100\n",
            "81081/81081 [==============================] - 86s 1ms/step - loss: 0.3440 - val_loss: 0.3482\n",
            "Epoch 42/100\n",
            "81081/81081 [==============================] - 89s 1ms/step - loss: 0.3438 - val_loss: 0.3458\n",
            "Epoch 43/100\n",
            "81081/81081 [==============================] - 84s 1ms/step - loss: 0.3439 - val_loss: 0.3460\n",
            "Epoch 44/100\n",
            "81081/81081 [==============================] - 85s 1ms/step - loss: 0.3439 - val_loss: 0.3468\n",
            "Epoch 45/100\n",
            "81081/81081 [==============================] - 85s 1ms/step - loss: 0.3440 - val_loss: 0.3465\n",
            "Epoch 46/100\n",
            "81081/81081 [==============================] - 93s 1ms/step - loss: 0.3439 - val_loss: 0.3473\n",
            "Epoch 47/100\n",
            "81081/81081 [==============================] - 85s 1ms/step - loss: 0.3438 - val_loss: 0.3501\n",
            "Epoch 48/100\n",
            "81081/81081 [==============================] - 86s 1ms/step - loss: 0.3439 - val_loss: 0.3482\n",
            "Epoch 49/100\n",
            "81081/81081 [==============================] - 91s 1ms/step - loss: 0.3439 - val_loss: 0.3462\n",
            "Epoch 50/100\n",
            "81081/81081 [==============================] - 85s 1ms/step - loss: 0.3440 - val_loss: 0.3530\n",
            "Epoch 51/100\n",
            "81081/81081 [==============================] - 86s 1ms/step - loss: 0.3439 - val_loss: 0.3474\n",
            "Epoch 52/100\n",
            "81081/81081 [==============================] - 87s 1ms/step - loss: 0.3438 - val_loss: 0.3462\n",
            "Epoch 53/100\n",
            "81081/81081 [==============================] - 94s 1ms/step - loss: 0.3437 - val_loss: 0.3496\n",
            "Epoch 54/100\n",
            "81081/81081 [==============================] - 86s 1ms/step - loss: 0.3438 - val_loss: 0.3520\n",
            "Epoch 55/100\n",
            "81081/81081 [==============================] - 88s 1ms/step - loss: 0.3438 - val_loss: 0.3465\n",
            "Epoch 56/100\n",
            "81081/81081 [==============================] - 89s 1ms/step - loss: 0.3438 - val_loss: 0.3465\n",
            "Epoch 57/100\n",
            "81081/81081 [==============================] - 90s 1ms/step - loss: 0.3438 - val_loss: 0.3488\n",
            "Epoch 58/100\n",
            "81081/81081 [==============================] - 86s 1ms/step - loss: 0.3438 - val_loss: 0.3473\n",
            "Epoch 59/100\n",
            "81081/81081 [==============================] - 86s 1ms/step - loss: 0.3438 - val_loss: 0.3469\n",
            "Epoch 60/100\n",
            "81081/81081 [==============================] - 94s 1ms/step - loss: 0.3438 - val_loss: 0.3466\n",
            "Epoch 61/100\n",
            "81081/81081 [==============================] - 87s 1ms/step - loss: 0.3437 - val_loss: 0.3465\n",
            "Epoch 62/100\n",
            "81081/81081 [==============================] - 86s 1ms/step - loss: 0.3437 - val_loss: 0.3471\n",
            "Epoch 63/100\n",
            "81081/81081 [==============================] - 87s 1ms/step - loss: 0.3437 - val_loss: 0.3455\n",
            "Epoch 64/100\n",
            "81081/81081 [==============================] - 90s 1ms/step - loss: 0.3437 - val_loss: 0.3459\n",
            "Epoch 65/100\n",
            "81081/81081 [==============================] - 86s 1ms/step - loss: 0.3437 - val_loss: 0.3499\n",
            "Epoch 66/100\n",
            "81081/81081 [==============================] - 86s 1ms/step - loss: 0.3437 - val_loss: 0.3566\n",
            "Epoch 67/100\n",
            "81081/81081 [==============================] - 90s 1ms/step - loss: 0.3436 - val_loss: 0.3462\n",
            "Epoch 68/100\n",
            "81081/81081 [==============================] - 90s 1ms/step - loss: 0.3436 - val_loss: 0.3469\n",
            "Epoch 69/100\n",
            "81081/81081 [==============================] - 86s 1ms/step - loss: 0.3436 - val_loss: 0.3467\n",
            "Epoch 70/100\n",
            "81081/81081 [==============================] - 88s 1ms/step - loss: 0.3436 - val_loss: 0.3454\n",
            "Epoch 71/100\n",
            "81081/81081 [==============================] - 89s 1ms/step - loss: 0.3435 - val_loss: 0.3552\n",
            "Epoch 72/100\n",
            "81081/81081 [==============================] - 87s 1ms/step - loss: 0.3436 - val_loss: 0.3460\n",
            "Epoch 73/100\n",
            "81081/81081 [==============================] - 86s 1ms/step - loss: 0.3437 - val_loss: 0.3465\n",
            "Epoch 74/100\n",
            "81081/81081 [==============================] - 91s 1ms/step - loss: 0.3435 - val_loss: 0.3477\n",
            "Epoch 75/100\n",
            "81081/81081 [==============================] - 90s 1ms/step - loss: 0.3436 - val_loss: 0.3461\n",
            "Epoch 76/100\n",
            "81081/81081 [==============================] - 86s 1ms/step - loss: 0.3436 - val_loss: 0.3460\n",
            "Epoch 77/100\n",
            "81081/81081 [==============================] - 87s 1ms/step - loss: 0.3436 - val_loss: 0.3477\n",
            "Epoch 78/100\n",
            "81081/81081 [==============================] - 86s 1ms/step - loss: 0.3436 - val_loss: 0.3486\n",
            "Epoch 79/100\n",
            "81081/81081 [==============================] - 88s 1ms/step - loss: 0.3436 - val_loss: 0.3498\n",
            "Epoch 80/100\n",
            "81081/81081 [==============================] - 85s 1ms/step - loss: 0.3436 - val_loss: 0.3466\n",
            "Epoch 81/100\n",
            "81081/81081 [==============================] - 90s 1ms/step - loss: 0.3436 - val_loss: 0.3466\n",
            "Epoch 82/100\n",
            "81081/81081 [==============================] - 87s 1ms/step - loss: 0.3436 - val_loss: 0.3477\n",
            "Epoch 83/100\n",
            "81081/81081 [==============================] - 85s 1ms/step - loss: 0.3436 - val_loss: 0.3493\n",
            "Epoch 84/100\n",
            "81081/81081 [==============================] - 87s 1ms/step - loss: 0.3435 - val_loss: 0.3457\n",
            "Epoch 85/100\n",
            "81081/81081 [==============================] - 88s 1ms/step - loss: 0.3436 - val_loss: 0.3465\n",
            "Epoch 86/100\n",
            "81081/81081 [==============================] - 91s 1ms/step - loss: 0.3435 - val_loss: 0.3457\n",
            "Epoch 87/100\n",
            "81081/81081 [==============================] - 86s 1ms/step - loss: 0.3434 - val_loss: 0.3523\n",
            "Epoch 88/100\n",
            "81081/81081 [==============================] - 90s 1ms/step - loss: 0.3435 - val_loss: 0.3473\n",
            "Epoch 89/100\n",
            "81081/81081 [==============================] - 85s 1ms/step - loss: 0.3434 - val_loss: 0.3460\n",
            "Epoch 90/100\n",
            "81081/81081 [==============================] - 88s 1ms/step - loss: 0.3435 - val_loss: 0.3469\n",
            "Epoch 91/100\n",
            "81081/81081 [==============================] - 86s 1ms/step - loss: 0.3434 - val_loss: 0.3501\n",
            "Epoch 92/100\n",
            "81081/81081 [==============================] - 85s 1ms/step - loss: 0.3434 - val_loss: 0.3603\n",
            "Epoch 93/100\n",
            "81081/81081 [==============================] - 86s 1ms/step - loss: 0.3435 - val_loss: 0.3457\n",
            "Epoch 94/100\n",
            "81081/81081 [==============================] - 86s 1ms/step - loss: 0.3435 - val_loss: 0.3478\n",
            "Epoch 95/100\n",
            "81081/81081 [==============================] - 91s 1ms/step - loss: 0.3435 - val_loss: 0.3468\n",
            "Epoch 96/100\n",
            "81081/81081 [==============================] - 85s 1ms/step - loss: 0.3435 - val_loss: 0.3493\n",
            "Epoch 97/100\n",
            "81081/81081 [==============================] - 88s 1ms/step - loss: 0.3435 - val_loss: 0.3470\n",
            "Epoch 98/100\n",
            "81081/81081 [==============================] - 86s 1ms/step - loss: 0.3435 - val_loss: 0.3466\n",
            "Epoch 99/100\n",
            "81081/81081 [==============================] - 86s 1ms/step - loss: 0.3435 - val_loss: 0.3457\n",
            "Epoch 100/100\n",
            "81081/81081 [==============================] - 85s 1ms/step - loss: 0.3435 - val_loss: 0.3517\n"
          ],
          "name": "stdout"
        }
      ]
    },
    {
      "cell_type": "code",
      "metadata": {
        "id": "TKARmYVaymo0",
        "outputId": "9aafec54-bde7-46d4-e6dc-d2b8c450ba55",
        "colab": {
          "base_uri": "https://localhost:8080/",
          "height": 87
        }
      },
      "source": [
        "predictions = wider_model.predict(feature_test)\n",
        "predictions = predictions.flatten()\n",
        "algo_evaluation(wider_model)"
      ],
      "execution_count": 36,
      "outputs": [
        {
          "output_type": "stream",
          "text": [
            "MSE (Mean Squared Error)         ->  0.35169436793889086\n",
            "MAE (Mean Absolute Error)        ->  0.4028990802691443\n",
            "r^2 score                        ->  0.6492016342930917\n",
            "RMSE (Root Mean Squared Error)   ->  0.5930382516658523\n"
          ],
          "name": "stdout"
        }
      ]
    },
    {
      "cell_type": "code",
      "metadata": {
        "id": "TerfcDTnysR2",
        "outputId": "c64abd34-82c9-4ae4-8de4-a09318074a95",
        "colab": {
          "base_uri": "https://localhost:8080/",
          "height": 367
        }
      },
      "source": [
        "plot_loss(history_wider_model)"
      ],
      "execution_count": 37,
      "outputs": [
        {
          "output_type": "display_data",
          "data": {
            "image/png": "[encoded data removed]",
            "text/plain": [
              "<Figure size 432x288 with 1 Axes>"
            ]
          },
          "metadata": {
            "tags": [],
            "needs_background": "light"
          }
        },
        {
          "output_type": "stream",
          "text": [
            "Minimun Loss : 88    0.34337\n",
            "Name: loss, dtype: float64\n",
            "---------------------------------------\n",
            "Minimun Validation Loss : 69    0.345362\n",
            "Name: val_loss, dtype: float64\n"
          ],
          "name": "stdout"
        }
      ]
    },
    {
      "cell_type": "markdown",
      "metadata": {
        "id": "IvREetA2yvhb"
      },
      "source": [
        "#Kesimpulan : "
      ]
    },
    {
      "cell_type": "markdown",
      "metadata": {
        "id": "NVv2petfywyW"
      },
      "source": [
        "##**Dari data diatas, dari pengujian 3 model yaitu Baseline Model, Deeper Model, dan Wilder Model dengan perbandingan 0.65 : 0.65 : 0.64 serta dengan MSE lebih kecil pula. Didapatkan Deeper Model yang terbaik sehingga dapat dijadikan bahan pengujian dengan menambahkan Optimizer.**"
      ]
    },
    {
      "cell_type": "markdown",
      "metadata": {
        "id": "zNa689Nayxut"
      },
      "source": [
        "#Input Optimizer"
      ]
    },
    {
      "cell_type": "code",
      "metadata": {
        "id": "iqgwmD9ZCJC9"
      },
      "source": [
        "from tensorflow.keras.optimizers import SGD, RMSprop"
      ],
      "execution_count": 39,
      "outputs": []
    },
    {
      "cell_type": "markdown",
      "metadata": {
        "id": "iVQxZP9dyzuS"
      },
      "source": [
        "##SGD"
      ]
    },
    {
      "cell_type": "code",
      "metadata": {
        "id": "o983LzOdNmDo",
        "outputId": "bb445ef5-b248-4cca-d8fe-89393e2bb054",
        "colab": {
          "base_uri": "https://localhost:8080/",
          "height": 265
        }
      },
      "source": [
        "deeper_model_tuned = Sequential()\n",
        "deeper_model_tuned.add(Dense(200, input_dim=2, kernel_initializer='normal', activation='relu'))\n",
        "deeper_model_tuned.add(Dense(100, kernel_initializer='normal', activation='relu'))\n",
        "deeper_model_tuned.add(Dense(1, kernel_initializer='normal'))\n",
        "\n",
        "opt = SGD(lr=0.001, momentum=0.95)\n",
        "\n",
        "deeper_model_tuned.compile(loss='mean_squared_error', optimizer=opt)\n",
        "\n",
        "deeper_model_tuned.summary()"
      ],
      "execution_count": 40,
      "outputs": [
        {
          "output_type": "stream",
          "text": [
            "Model: \"sequential_4\"\n",
            "_________________________________________________________________\n",
            "Layer (type)                 Output Shape              Param #   \n",
            "=================================================================\n",
            "dense_10 (Dense)             (None, 200)               600       \n",
            "_________________________________________________________________\n",
            "dense_11 (Dense)             (None, 100)               20100     \n",
            "_________________________________________________________________\n",
            "dense_12 (Dense)             (None, 1)                 101       \n",
            "=================================================================\n",
            "Total params: 20,801\n",
            "Trainable params: 20,801\n",
            "Non-trainable params: 0\n",
            "_________________________________________________________________\n"
          ],
          "name": "stdout"
        }
      ]
    },
    {
      "cell_type": "code",
      "metadata": {
        "id": "wzWEzzl8Nq6V",
        "outputId": "906ea213-fc96-487a-f0e0-baad858ca698",
        "colab": {
          "base_uri": "https://localhost:8080/",
          "height": 1000
        }
      },
      "source": [
        "history_tuned_sgd = deeper_model_tuned.fit(x=feature_train, y=label_train, validation_data=(feature_test, label_test), epochs=30, batch_size=8)"
      ],
      "execution_count": 41,
      "outputs": [
        {
          "output_type": "stream",
          "text": [
            "Epoch 1/30\n",
            "81081/81081 [==============================] - 103s 1ms/step - loss: 0.3586 - val_loss: 0.3500\n",
            "Epoch 2/30\n",
            "81081/81081 [==============================] - 97s 1ms/step - loss: 0.3482 - val_loss: 0.3514\n",
            "Epoch 3/30\n",
            "81081/81081 [==============================] - 97s 1ms/step - loss: 0.3471 - val_loss: 0.3512\n",
            "Epoch 4/30\n",
            "81081/81081 [==============================] - 100s 1ms/step - loss: 0.3465 - val_loss: 0.3483\n",
            "Epoch 5/30\n",
            "81081/81081 [==============================] - 95s 1ms/step - loss: 0.3463 - val_loss: 0.3558\n",
            "Epoch 6/30\n",
            "81081/81081 [==============================] - 94s 1ms/step - loss: 0.3459 - val_loss: 0.3462\n",
            "Epoch 7/30\n",
            "81081/81081 [==============================] - 97s 1ms/step - loss: 0.3454 - val_loss: 0.3498\n",
            "Epoch 8/30\n",
            "81081/81081 [==============================] - 97s 1ms/step - loss: 0.3453 - val_loss: 0.3455\n",
            "Epoch 9/30\n",
            "81081/81081 [==============================] - 94s 1ms/step - loss: 0.3451 - val_loss: 0.3443\n",
            "Epoch 10/30\n",
            "81081/81081 [==============================] - 93s 1ms/step - loss: 0.3448 - val_loss: 0.3476\n",
            "Epoch 11/30\n",
            "81081/81081 [==============================] - 96s 1ms/step - loss: 0.3448 - val_loss: 0.3460\n",
            "Epoch 12/30\n",
            "81081/81081 [==============================] - 93s 1ms/step - loss: 0.3446 - val_loss: 0.3557\n",
            "Epoch 13/30\n",
            "81081/81081 [==============================] - 97s 1ms/step - loss: 0.3447 - val_loss: 0.3494\n",
            "Epoch 14/30\n",
            "81081/81081 [==============================] - 95s 1ms/step - loss: 0.3445 - val_loss: 0.3459\n",
            "Epoch 15/30\n",
            "81081/81081 [==============================] - 95s 1ms/step - loss: 0.3446 - val_loss: 0.3475\n",
            "Epoch 16/30\n",
            "81081/81081 [==============================] - 93s 1ms/step - loss: 0.3443 - val_loss: 0.3528\n",
            "Epoch 17/30\n",
            "81081/81081 [==============================] - 94s 1ms/step - loss: 0.3441 - val_loss: 0.3446\n",
            "Epoch 18/30\n",
            "81081/81081 [==============================] - 95s 1ms/step - loss: 0.3442 - val_loss: 0.3436\n",
            "Epoch 19/30\n",
            "81081/81081 [==============================] - 94s 1ms/step - loss: 0.3443 - val_loss: 0.3455\n",
            "Epoch 20/30\n",
            "81081/81081 [==============================] - 99s 1ms/step - loss: 0.3443 - val_loss: 0.3477\n",
            "Epoch 21/30\n",
            "81081/81081 [==============================] - 96s 1ms/step - loss: 0.3440 - val_loss: 0.3447\n",
            "Epoch 22/30\n",
            "81081/81081 [==============================] - 94s 1ms/step - loss: 0.3441 - val_loss: 0.3461\n",
            "Epoch 23/30\n",
            "81081/81081 [==============================] - 94s 1ms/step - loss: 0.3441 - val_loss: 0.3481\n",
            "Epoch 24/30\n",
            "81081/81081 [==============================] - 95s 1ms/step - loss: 0.3440 - val_loss: 0.3473\n",
            "Epoch 25/30\n",
            "81081/81081 [==============================] - 97s 1ms/step - loss: 0.3439 - val_loss: 0.3460\n",
            "Epoch 26/30\n",
            "81081/81081 [==============================] - 98s 1ms/step - loss: 0.3440 - val_loss: 0.3483\n",
            "Epoch 27/30\n",
            "81081/81081 [==============================] - 93s 1ms/step - loss: 0.3437 - val_loss: 0.3489\n",
            "Epoch 28/30\n",
            "81081/81081 [==============================] - 95s 1ms/step - loss: 0.3438 - val_loss: 0.3491\n",
            "Epoch 29/30\n",
            "81081/81081 [==============================] - 93s 1ms/step - loss: 0.3439 - val_loss: 0.3465\n",
            "Epoch 30/30\n",
            "81081/81081 [==============================] - 93s 1ms/step - loss: 0.3437 - val_loss: 0.3543\n"
          ],
          "name": "stdout"
        }
      ]
    },
    {
      "cell_type": "code",
      "metadata": {
        "id": "bQwLLANYNsfW",
        "outputId": "a22942b9-64aa-4b30-81a1-b137d88a9183",
        "colab": {
          "base_uri": "https://localhost:8080/",
          "height": 367
        }
      },
      "source": [
        "plot_loss(history_tuned_sgd)"
      ],
      "execution_count": 42,
      "outputs": [
        {
          "output_type": "display_data",
          "data": {
            "image/png": "[encoded data removed]",
            "text/plain": [
              "<Figure size 432x288 with 1 Axes>"
            ]
          },
          "metadata": {
            "tags": [],
            "needs_background": "light"
          }
        },
        {
          "output_type": "stream",
          "text": [
            "Minimun Loss : 29    0.34367\n",
            "Name: loss, dtype: float64\n",
            "---------------------------------------\n",
            "Minimun Validation Loss : 17    0.343609\n",
            "Name: val_loss, dtype: float64\n"
          ],
          "name": "stdout"
        }
      ]
    },
    {
      "cell_type": "markdown",
      "metadata": {
        "id": "dyMnJGv9yzws"
      },
      "source": [
        "##RMSprop"
      ]
    },
    {
      "cell_type": "code",
      "metadata": {
        "id": "htbDMkaWNwWa",
        "outputId": "2fbe1fef-4550-4218-8a2b-d97729b7032f",
        "colab": {
          "base_uri": "https://localhost:8080/",
          "height": 265
        }
      },
      "source": [
        "from tensorflow.keras.optimizers import RMSprop\n",
        "random\n",
        "deeper_model_tuned_rmsprop = Sequential()\n",
        "deeper_model_tuned_rmsprop.add(Dense(200, input_dim=2, kernel_initializer='normal', activation='relu'))\n",
        "deeper_model_tuned_rmsprop.add(Dense(100, kernel_initializer='normal', activation='relu'))\n",
        "deeper_model_tuned_rmsprop.add(Dense(1, kernel_initializer='normal'))\n",
        "\n",
        "opt = RMSprop(lr=0.001)\n",
        "\n",
        "deeper_model_tuned_rmsprop.compile(loss='mean_squared_error', optimizer=opt)\n",
        "\n",
        "deeper_model_tuned_rmsprop.summary()"
      ],
      "execution_count": 43,
      "outputs": [
        {
          "output_type": "stream",
          "text": [
            "Model: \"sequential_5\"\n",
            "_________________________________________________________________\n",
            "Layer (type)                 Output Shape              Param #   \n",
            "=================================================================\n",
            "dense_13 (Dense)             (None, 200)               600       \n",
            "_________________________________________________________________\n",
            "dense_14 (Dense)             (None, 100)               20100     \n",
            "_________________________________________________________________\n",
            "dense_15 (Dense)             (None, 1)                 101       \n",
            "=================================================================\n",
            "Total params: 20,801\n",
            "Trainable params: 20,801\n",
            "Non-trainable params: 0\n",
            "_________________________________________________________________\n"
          ],
          "name": "stdout"
        }
      ]
    },
    {
      "cell_type": "code",
      "metadata": {
        "id": "QA56pU2zarcK",
        "outputId": "1defffac-3468-4cb5-8605-125fea42f79d",
        "colab": {
          "base_uri": "https://localhost:8080/",
          "height": 1000
        }
      },
      "source": [
        "history_tuned_rmsprop = deeper_model_tuned_rmsprop.fit(x=feature_train, y=label_train, validation_data=(feature_test, label_test), epochs=30, batch_size=8)"
      ],
      "execution_count": 44,
      "outputs": [
        {
          "output_type": "stream",
          "text": [
            "Epoch 1/30\n",
            "81081/81081 [==============================] - 102s 1ms/step - loss: 0.3598 - val_loss: 0.3511\n",
            "Epoch 2/30\n",
            "81081/81081 [==============================] - 102s 1ms/step - loss: 0.3534 - val_loss: 0.3594\n",
            "Epoch 3/30\n",
            "81081/81081 [==============================] - 100s 1ms/step - loss: 0.3530 - val_loss: 0.3586\n",
            "Epoch 4/30\n",
            "81081/81081 [==============================] - 99s 1ms/step - loss: 0.3524 - val_loss: 0.3572\n",
            "Epoch 5/30\n",
            "81081/81081 [==============================] - 101s 1ms/step - loss: 0.3510 - val_loss: 0.3521\n",
            "Epoch 6/30\n",
            "81081/81081 [==============================] - 99s 1ms/step - loss: 0.3521 - val_loss: 0.3567\n",
            "Epoch 7/30\n",
            "81081/81081 [==============================] - 99s 1ms/step - loss: 0.3515 - val_loss: 0.3619\n",
            "Epoch 8/30\n",
            "81081/81081 [==============================] - 102s 1ms/step - loss: 0.3510 - val_loss: 0.3573\n",
            "Epoch 9/30\n",
            "81081/81081 [==============================] - 103s 1ms/step - loss: 0.3509 - val_loss: 0.3643\n",
            "Epoch 10/30\n",
            "81081/81081 [==============================] - 99s 1ms/step - loss: 0.3503 - val_loss: 0.3507\n",
            "Epoch 11/30\n",
            "81081/81081 [==============================] - 101s 1ms/step - loss: 0.3509 - val_loss: 0.3572\n",
            "Epoch 12/30\n",
            "81081/81081 [==============================] - 99s 1ms/step - loss: 0.3498 - val_loss: 0.3559\n",
            "Epoch 13/30\n",
            "81081/81081 [==============================] - 101s 1ms/step - loss: 0.3503 - val_loss: 0.3507\n",
            "Epoch 14/30\n",
            "81081/81081 [==============================] - 103s 1ms/step - loss: 0.3508 - val_loss: 0.3498\n",
            "Epoch 15/30\n",
            "81081/81081 [==============================] - 106s 1ms/step - loss: 0.3509 - val_loss: 0.3501\n",
            "Epoch 16/30\n",
            "81081/81081 [==============================] - 102s 1ms/step - loss: 0.3519 - val_loss: 0.3652\n",
            "Epoch 17/30\n",
            "81081/81081 [==============================] - 104s 1ms/step - loss: 0.3517 - val_loss: 0.3524\n",
            "Epoch 18/30\n",
            "81081/81081 [==============================] - 100s 1ms/step - loss: 0.3516 - val_loss: 0.3678\n",
            "Epoch 19/30\n",
            "81081/81081 [==============================] - 101s 1ms/step - loss: 0.3519 - val_loss: 0.3574\n",
            "Epoch 20/30\n",
            "81081/81081 [==============================] - 104s 1ms/step - loss: 0.3517 - val_loss: 0.3592\n",
            "Epoch 21/30\n",
            "81081/81081 [==============================] - 105s 1ms/step - loss: 0.3508 - val_loss: 0.3601\n",
            "Epoch 22/30\n",
            "81081/81081 [==============================] - 102s 1ms/step - loss: 0.3511 - val_loss: 0.3520\n",
            "Epoch 23/30\n",
            "81081/81081 [==============================] - 101s 1ms/step - loss: 0.3500 - val_loss: 0.3548\n",
            "Epoch 24/30\n",
            "81081/81081 [==============================] - 107s 1ms/step - loss: 0.3506 - val_loss: 0.3516\n",
            "Epoch 25/30\n",
            "81081/81081 [==============================] - 102s 1ms/step - loss: 0.3501 - val_loss: 0.3516\n",
            "Epoch 26/30\n",
            "81081/81081 [==============================] - 104s 1ms/step - loss: 0.3504 - val_loss: 0.3525\n",
            "Epoch 27/30\n",
            "81081/81081 [==============================] - 107s 1ms/step - loss: 0.3507 - val_loss: 0.3553\n",
            "Epoch 28/30\n",
            "81081/81081 [==============================] - 104s 1ms/step - loss: 0.3509 - val_loss: 0.3630\n",
            "Epoch 29/30\n",
            "81081/81081 [==============================] - 105s 1ms/step - loss: 0.3513 - val_loss: 0.3497\n",
            "Epoch 30/30\n",
            "81081/81081 [==============================] - 108s 1ms/step - loss: 0.3513 - val_loss: 0.3528\n"
          ],
          "name": "stdout"
        }
      ]
    },
    {
      "cell_type": "code",
      "metadata": {
        "id": "eMOvDI5PauD2",
        "outputId": "caeca854-9859-43cf-f7aa-6ed093e9baa5",
        "colab": {
          "base_uri": "https://localhost:8080/",
          "height": 367
        }
      },
      "source": [
        "plot_loss(history_tuned_rmsprop)"
      ],
      "execution_count": 45,
      "outputs": [
        {
          "output_type": "display_data",
          "data": {
            "image/png": "[encoded data removed]",
            "text/plain": [
              "<Figure size 432x288 with 1 Axes>"
            ]
          },
          "metadata": {
            "tags": [],
            "needs_background": "light"
          }
        },
        {
          "output_type": "stream",
          "text": [
            "Minimun Loss : 11    0.349812\n",
            "Name: loss, dtype: float64\n",
            "---------------------------------------\n",
            "Minimun Validation Loss : 28    0.349715\n",
            "Name: val_loss, dtype: float64\n"
          ],
          "name": "stdout"
        }
      ]
    },
    {
      "cell_type": "markdown",
      "metadata": {
        "id": "cRAW9b0syzzx"
      },
      "source": [
        "#Kesimpulan :"
      ]
    },
    {
      "cell_type": "markdown",
      "metadata": {
        "id": "tEJCZaa1y3tc"
      },
      "source": [
        "##**Pada pengujian diatas, dimana Deeper Model diuji dengan ditambahkan optimizer dan didapatkan Adam yang terbaik pada pengujian ini dibandingkan RMSprop dan SGD. yang mana MSE didapatkan 0.30 dan paling kecil dibandingkan yang lain.**"
      ]
    }
  ]
}